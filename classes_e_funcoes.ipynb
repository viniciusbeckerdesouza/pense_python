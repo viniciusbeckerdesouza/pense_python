{
 "cells": [
  {
   "cell_type": "code",
   "execution_count": 1,
   "id": "9429c1f6",
   "metadata": {},
   "outputs": [],
   "source": [
    "class Time:\n",
    "    \"\"\"representa um horário.\n",
    "    atributos: hour, minute, second\"\"\""
   ]
  },
  {
   "cell_type": "code",
   "execution_count": 2,
   "id": "c2bf85e9",
   "metadata": {},
   "outputs": [],
   "source": [
    "time = Time()\n",
    "time.hour = 23\n",
    "time.minute = 59\n",
    "time.second = 30"
   ]
  },
  {
   "cell_type": "code",
   "execution_count": 3,
   "id": "428efef4",
   "metadata": {},
   "outputs": [],
   "source": [
    "tempo = Time()\n",
    "tempo.hour = 12\n",
    "tempo.minute = 15\n",
    "tempo.second = 29"
   ]
  },
  {
   "cell_type": "code",
   "execution_count": 4,
   "id": "c7c2f07f",
   "metadata": {},
   "outputs": [],
   "source": [
    "def print_time(time):\n",
    "    print(time.hour,':', time.minute,':', time.second)"
   ]
  },
  {
   "cell_type": "code",
   "execution_count": 5,
   "id": "86d56e2a",
   "metadata": {},
   "outputs": [
    {
     "name": "stdout",
     "output_type": "stream",
     "text": [
      "12 : 15 : 29\n"
     ]
    }
   ],
   "source": [
    "print_time(tempo)"
   ]
  },
  {
   "cell_type": "code",
   "execution_count": 6,
   "id": "47814c39",
   "metadata": {},
   "outputs": [],
   "source": [
    "def is_after(t1, t2):\n",
    "    return t1.hour > t2.hour"
   ]
  },
  {
   "cell_type": "code",
   "execution_count": 7,
   "id": "59c1efc0",
   "metadata": {},
   "outputs": [
    {
     "data": {
      "text/plain": [
       "False"
      ]
     },
     "execution_count": 7,
     "metadata": {},
     "output_type": "execute_result"
    }
   ],
   "source": [
    "is_after(tempo, time)"
   ]
  },
  {
   "cell_type": "code",
   "execution_count": 8,
   "id": "4b7952a3",
   "metadata": {},
   "outputs": [],
   "source": [
    "def add_time(t1, t2):\n",
    "    sum = Time()\n",
    "    sum.hour = t1.hour + t2.hour\n",
    "    sum.minute = t1.minute + t2.minute\n",
    "    sum.second = t1.second + t2.second\n",
    "    return sum"
   ]
  },
  {
   "cell_type": "code",
   "execution_count": 12,
   "id": "dc5c08f7",
   "metadata": {},
   "outputs": [],
   "source": [
    "start = Time()\n",
    "start.hour = 9\n",
    "start.minute = 45\n",
    "start.second = 59"
   ]
  },
  {
   "cell_type": "code",
   "execution_count": 13,
   "id": "924ee90e",
   "metadata": {},
   "outputs": [],
   "source": [
    "duration = Time()\n",
    "duration.hour = 1\n",
    "duration.minute = 35\n",
    "duration.second = 1"
   ]
  },
  {
   "cell_type": "code",
   "execution_count": 14,
   "id": "fafb60ac",
   "metadata": {},
   "outputs": [
    {
     "name": "stdout",
     "output_type": "stream",
     "text": [
      "10 : 80 : 60\n"
     ]
    }
   ],
   "source": [
    "done = add_time(start, duration)\n",
    "print_time(done)"
   ]
  },
  {
   "cell_type": "code",
   "execution_count": 15,
   "id": "d0bd2134",
   "metadata": {},
   "outputs": [],
   "source": [
    "def add_time(t1, t2):\n",
    "    sum = Time()\n",
    "    sum.hour = t1.hour + t2.hour\n",
    "    sum.minute = t1.minute + t2.minute\n",
    "    sum.second = t1.second + t2.second\n",
    "    if sum.second >= 60:\n",
    "        sum.second -= 60\n",
    "        sum.minute += 1\n",
    "    if sum.minute >= 60:\n",
    "        sum.minute -= 60\n",
    "        sum.hour += 1\n",
    "    return sum"
   ]
  },
  {
   "cell_type": "code",
   "execution_count": 16,
   "id": "0be6f892",
   "metadata": {},
   "outputs": [
    {
     "name": "stdout",
     "output_type": "stream",
     "text": [
      "11 : 21 : 0\n"
     ]
    }
   ],
   "source": [
    "done = add_time(start, duration)\n",
    "print_time(done)"
   ]
  },
  {
   "cell_type": "code",
   "execution_count": 32,
   "id": "d77e2dd1",
   "metadata": {},
   "outputs": [],
   "source": [
    "def increment(time, seconds):\n",
    "    time.second += seconds\n",
    "    if time.second >= 60:\n",
    "        time.second  -= 60\n",
    "        time.minute += 1\n",
    "    if time.minute >= 60:\n",
    "        time.minute -= 60\n",
    "        time.hour += 1\n",
    "    return(time)\n",
    "    "
   ]
  },
  {
   "cell_type": "code",
   "execution_count": 38,
   "id": "a2e324c4",
   "metadata": {},
   "outputs": [
    {
     "name": "stdout",
     "output_type": "stream",
     "text": [
      "13 : 10 : 0\n"
     ]
    }
   ],
   "source": [
    "teste = Time()\n",
    "teste.hour = 13\n",
    "teste.minute = 10\n",
    "teste.second = 0\n",
    "print_time(teste)"
   ]
  },
  {
   "cell_type": "code",
   "execution_count": 34,
   "id": "a1cbf687",
   "metadata": {},
   "outputs": [
    {
     "name": "stdout",
     "output_type": "stream",
     "text": [
      "13 : 11 : 440\n"
     ]
    }
   ],
   "source": [
    "t = increment(teste, 500)\n",
    "print_time(t)"
   ]
  },
  {
   "cell_type": "code",
   "execution_count": 35,
   "id": "13ccc516",
   "metadata": {},
   "outputs": [],
   "source": [
    "def incremnte(time, sec):\n",
    "    t = Time()\n",
    "    t.hour = time.hour\n",
    "    t.minute = time.minute\n",
    "    t.second = time.second + sec\n",
    "    return t"
   ]
  },
  {
   "cell_type": "code",
   "execution_count": 39,
   "id": "bf23e018",
   "metadata": {},
   "outputs": [
    {
     "name": "stdout",
     "output_type": "stream",
     "text": [
      "13 : 10 : 20\n"
     ]
    }
   ],
   "source": [
    "i = incremnte(teste, 20)\n",
    "print_time(i)"
   ]
  },
  {
   "cell_type": "code",
   "execution_count": 40,
   "id": "ebc5d1d9",
   "metadata": {},
   "outputs": [],
   "source": [
    "def time_to_int(time):\n",
    "    minutes = time.hour * 60 + time.minute\n",
    "    seconds = minutes * 60 + time.second\n",
    "    return seconds\n",
    "    "
   ]
  },
  {
   "cell_type": "code",
   "execution_count": 41,
   "id": "1d1a3fe7",
   "metadata": {},
   "outputs": [
    {
     "data": {
      "text/plain": [
       "47420"
      ]
     },
     "execution_count": 41,
     "metadata": {},
     "output_type": "execute_result"
    }
   ],
   "source": [
    "time_to_int(i)"
   ]
  },
  {
   "cell_type": "code",
   "execution_count": 42,
   "id": "2dd58381",
   "metadata": {},
   "outputs": [],
   "source": [
    "def int_to_time(seconds):\n",
    "    time = Time()\n",
    "    minutes, time.second = divmod(seconds, 60)\n",
    "    time.hour, time.minute = divmod(minutes, 60)\n",
    "    return(time)"
   ]
  },
  {
   "cell_type": "code",
   "execution_count": 46,
   "id": "6d9a550d",
   "metadata": {},
   "outputs": [
    {
     "name": "stdout",
     "output_type": "stream",
     "text": [
      "13 : 12 : 21\n"
     ]
    }
   ],
   "source": [
    "print_time(int_to_time(47421 + 120))"
   ]
  },
  {
   "cell_type": "code",
   "execution_count": 50,
   "id": "34472a6a",
   "metadata": {},
   "outputs": [
    {
     "name": "stdout",
     "output_type": "stream",
     "text": [
      "True\n",
      "True\n",
      "True\n",
      "True\n",
      "True\n",
      "True\n",
      "True\n",
      "True\n",
      "True\n",
      "True\n"
     ]
    }
   ],
   "source": [
    "for x in range(10, 20):\n",
    "    print(time_to_int(int_to_time(x)) == x)"
   ]
  },
  {
   "cell_type": "code",
   "execution_count": 75,
   "id": "5d752a3f",
   "metadata": {},
   "outputs": [],
   "source": [
    "def add_time(t1, t2):\n",
    "    assert valid_time(t1) and valid_time(t2)\n",
    "    seconds = time_to_int(t1) + time_to_int(t2)\n",
    "    return int_to_time(seconds)"
   ]
  },
  {
   "cell_type": "code",
   "execution_count": 80,
   "id": "cbffb59a",
   "metadata": {},
   "outputs": [
    {
     "name": "stdout",
     "output_type": "stream",
     "text": [
      "22 : 28 : 50\n"
     ]
    }
   ],
   "source": [
    "print_time(add_time(inicio, fim))"
   ]
  },
  {
   "cell_type": "code",
   "execution_count": 55,
   "id": "02bff6bc",
   "metadata": {},
   "outputs": [],
   "source": [
    "def increment(time, seconds):\n",
    "    n = time_to_int(time) + seconds\n",
    "    return int_to_time(n)"
   ]
  },
  {
   "cell_type": "code",
   "execution_count": 58,
   "id": "756d9d2c",
   "metadata": {},
   "outputs": [
    {
     "name": "stdout",
     "output_type": "stream",
     "text": [
      "9 : 45 : 59\n"
     ]
    }
   ],
   "source": [
    "print_time(start)"
   ]
  },
  {
   "cell_type": "code",
   "execution_count": 63,
   "id": "f03a0c9d",
   "metadata": {},
   "outputs": [
    {
     "name": "stdout",
     "output_type": "stream",
     "text": [
      "9 : 46 : 19\n"
     ]
    }
   ],
   "source": [
    "print_time(increment(start, 20))"
   ]
  },
  {
   "cell_type": "code",
   "execution_count": 68,
   "id": "81e177ce",
   "metadata": {},
   "outputs": [],
   "source": [
    "def diff_time(t1, t2):\n",
    "    s1 = time_to_int(t1)\n",
    "    s2 = time_to_int(t2)\n",
    "    return int_to_time(s2 - s1)"
   ]
  },
  {
   "cell_type": "code",
   "execution_count": 77,
   "id": "9e3bcf04",
   "metadata": {},
   "outputs": [],
   "source": [
    "inicio = Time()\n",
    "inicio.hour = 7\n",
    "inicio.minute = 15\n",
    "inicio.second = 17\n",
    "fim = Time()\n",
    "fim.hour = 15\n",
    "fim.minute = 13\n",
    "fim.second = 33"
   ]
  },
  {
   "cell_type": "code",
   "execution_count": 71,
   "id": "fdcde2ef",
   "metadata": {},
   "outputs": [
    {
     "name": "stdout",
     "output_type": "stream",
     "text": [
      "7 : 58 : 16\n"
     ]
    }
   ],
   "source": [
    "print_time(diff_time(inicio, fim))"
   ]
  },
  {
   "cell_type": "code",
   "execution_count": 79,
   "id": "53c05379",
   "metadata": {},
   "outputs": [],
   "source": [
    "def valid_time(t):\n",
    "    if t.hour < 0 or t.minute < 0 or t.second < 0:\n",
    "        return False\n",
    "    if t.minute >= 60 or t.second >= 60:\n",
    "        return False\n",
    "    return True"
   ]
  },
  {
   "cell_type": "code",
   "execution_count": 74,
   "id": "06b3c407",
   "metadata": {},
   "outputs": [],
   "source": [
    "valid_time(inicio)"
   ]
  },
  {
   "cell_type": "code",
   "execution_count": 81,
   "id": "e5817d7d",
   "metadata": {},
   "outputs": [],
   "source": [
    "def mul_time(time, n):\n",
    "    t = time_to_int(time)\n",
    "    prod = t * n\n",
    "    return int_to_time(prod)"
   ]
  },
  {
   "cell_type": "code",
   "execution_count": 83,
   "id": "54b03c6d",
   "metadata": {},
   "outputs": [
    {
     "name": "stdout",
     "output_type": "stream",
     "text": [
      "36 : 16 : 25\n"
     ]
    }
   ],
   "source": [
    "print_time(mul_time(inicio, 5))"
   ]
  },
  {
   "cell_type": "code",
   "execution_count": 84,
   "id": "d1f1a9f1",
   "metadata": {},
   "outputs": [],
   "source": [
    "def passo_medio(time, distancia):\n",
    "    return time / distancia"
   ]
  },
  {
   "cell_type": "code",
   "execution_count": null,
   "id": "4d3c1252",
   "metadata": {},
   "outputs": [],
   "source": []
  }
 ],
 "metadata": {
  "kernelspec": {
   "display_name": "Python 3",
   "language": "python",
   "name": "python3"
  },
  "language_info": {
   "codemirror_mode": {
    "name": "ipython",
    "version": 3
   },
   "file_extension": ".py",
   "mimetype": "text/x-python",
   "name": "python",
   "nbconvert_exporter": "python",
   "pygments_lexer": "ipython3",
   "version": "3.8.8"
  }
 },
 "nbformat": 4,
 "nbformat_minor": 5
}
