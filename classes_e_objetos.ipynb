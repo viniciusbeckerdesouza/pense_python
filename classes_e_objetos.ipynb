{
 "cells": [
  {
   "cell_type": "code",
   "execution_count": 9,
   "id": "a1cf27aa",
   "metadata": {},
   "outputs": [],
   "source": [
    "import math"
   ]
  },
  {
   "cell_type": "code",
   "execution_count": 1,
   "id": "35e6351a",
   "metadata": {},
   "outputs": [],
   "source": [
    "class Point:\n",
    "    \"\"\"Representa um ponto no espaço 2D\"\"\""
   ]
  },
  {
   "cell_type": "code",
   "execution_count": 2,
   "id": "c0819749",
   "metadata": {},
   "outputs": [
    {
     "data": {
      "text/plain": [
       "__main__.Point"
      ]
     },
     "execution_count": 2,
     "metadata": {},
     "output_type": "execute_result"
    }
   ],
   "source": [
    "Point"
   ]
  },
  {
   "cell_type": "code",
   "execution_count": 3,
   "id": "547fe891",
   "metadata": {},
   "outputs": [
    {
     "data": {
      "text/plain": [
       "<__main__.Point at 0x4e9b580>"
      ]
     },
     "execution_count": 3,
     "metadata": {},
     "output_type": "execute_result"
    }
   ],
   "source": [
    "blank = Point()\n",
    "blank"
   ]
  },
  {
   "cell_type": "code",
   "execution_count": 6,
   "id": "64955020",
   "metadata": {},
   "outputs": [
    {
     "data": {
      "text/plain": [
       "8.0"
      ]
     },
     "execution_count": 6,
     "metadata": {},
     "output_type": "execute_result"
    }
   ],
   "source": [
    "blank.x = 3.0\n",
    "blank.y = 4.0\n",
    "2 * blank.y"
   ]
  },
  {
   "cell_type": "code",
   "execution_count": 7,
   "id": "2f584602",
   "metadata": {},
   "outputs": [
    {
     "data": {
      "text/plain": [
       "'(3, 4)'"
      ]
     },
     "execution_count": 7,
     "metadata": {},
     "output_type": "execute_result"
    }
   ],
   "source": [
    "'(%g, %g)' % (blank.x, blank.y)"
   ]
  },
  {
   "cell_type": "code",
   "execution_count": 11,
   "id": "4b3d8256",
   "metadata": {},
   "outputs": [
    {
     "data": {
      "text/plain": [
       "5.0"
      ]
     },
     "execution_count": 11,
     "metadata": {},
     "output_type": "execute_result"
    }
   ],
   "source": [
    "distance = math.sqrt(blank.x ** 2 + blank.y ** 2)\n",
    "distance"
   ]
  },
  {
   "cell_type": "code",
   "execution_count": 13,
   "id": "b9da8254",
   "metadata": {},
   "outputs": [
    {
     "name": "stdout",
     "output_type": "stream",
     "text": [
      "(3, 4)\n"
     ]
    }
   ],
   "source": [
    "def imprime_ponto(p):\n",
    "    print('(%g, %g)' % (p.x, p.y))\n",
    "    \n",
    "imprime_ponto(blank)"
   ]
  },
  {
   "cell_type": "code",
   "execution_count": 14,
   "id": "348c3258",
   "metadata": {},
   "outputs": [],
   "source": [
    "def distancia_entre_pontos(p, q):\n",
    "    return(math.sqrt((q.x - p.x) ** 2 + (q.y - p.y) ** 2))"
   ]
  },
  {
   "cell_type": "code",
   "execution_count": 15,
   "id": "2650e509",
   "metadata": {},
   "outputs": [
    {
     "data": {
      "text/plain": [
       "1.4142135623730951"
      ]
     },
     "execution_count": 15,
     "metadata": {},
     "output_type": "execute_result"
    }
   ],
   "source": [
    "p1 = Point()\n",
    "q1 = Point()\n",
    "\n",
    "p1.x = 6\n",
    "p1.y = 7\n",
    "q1.x = 7\n",
    "q1.y = 8\n",
    "distancia_entre_pontos(p1, q1)"
   ]
  },
  {
   "cell_type": "code",
   "execution_count": 17,
   "id": "9ed5db48",
   "metadata": {},
   "outputs": [],
   "source": [
    "class Rectangle:\n",
    "    \"\"\"Representa um retângulo.\n",
    "    atributos: width, heigth, corner\"\"\""
   ]
  },
  {
   "cell_type": "code",
   "execution_count": 18,
   "id": "2e9f9ed0",
   "metadata": {},
   "outputs": [],
   "source": [
    "box = Rectangle()\n",
    "box.width = 100.0\n",
    "box.height = 200.0\n",
    "box.corner = Point()\n",
    "box.corner.x = 0.0\n",
    "box.corner.y = 0.0"
   ]
  },
  {
   "cell_type": "code",
   "execution_count": 19,
   "id": "96ff99a6",
   "metadata": {},
   "outputs": [
    {
     "data": {
      "text/plain": [
       "<__main__.Rectangle at 0x4e9bf10>"
      ]
     },
     "execution_count": 19,
     "metadata": {},
     "output_type": "execute_result"
    }
   ],
   "source": [
    "box"
   ]
  },
  {
   "cell_type": "code",
   "execution_count": 20,
   "id": "087b9018",
   "metadata": {},
   "outputs": [],
   "source": [
    "def encontre_o_centro(r):\n",
    "    p = Point()\n",
    "    p.x = r.corner.x + r.width/2\n",
    "    p.y = r.corner.y + r.height/2\n",
    "    return p"
   ]
  },
  {
   "cell_type": "code",
   "execution_count": 22,
   "id": "65c07363",
   "metadata": {},
   "outputs": [
    {
     "name": "stdout",
     "output_type": "stream",
     "text": [
      "(50, 100)\n"
     ]
    }
   ],
   "source": [
    "centro = encontre_o_centro(box)\n",
    "imprime_ponto(centro)"
   ]
  },
  {
   "cell_type": "code",
   "execution_count": 25,
   "id": "f4a606d3",
   "metadata": {},
   "outputs": [],
   "source": [
    "box.width = 100.0 + 50\n",
    "box.height = 200.0 + 100"
   ]
  },
  {
   "cell_type": "code",
   "execution_count": 26,
   "id": "f515dbf6",
   "metadata": {},
   "outputs": [
    {
     "name": "stdout",
     "output_type": "stream",
     "text": [
      "(75, 150)\n"
     ]
    }
   ],
   "source": [
    "centro = encontre_o_centro(box)\n",
    "imprime_ponto(centro)"
   ]
  },
  {
   "cell_type": "code",
   "execution_count": 27,
   "id": "540cbde3",
   "metadata": {},
   "outputs": [],
   "source": [
    "def grow_rectangle(rect, dwidth, dheight):\n",
    "    rect.width += dwidth\n",
    "    rect.height += dheight\n",
    "    "
   ]
  },
  {
   "cell_type": "code",
   "execution_count": 28,
   "id": "ab2ad017",
   "metadata": {},
   "outputs": [
    {
     "data": {
      "text/plain": [
       "(150.0, 300.0)"
      ]
     },
     "execution_count": 28,
     "metadata": {},
     "output_type": "execute_result"
    }
   ],
   "source": [
    "box.width, box.height"
   ]
  },
  {
   "cell_type": "code",
   "execution_count": 29,
   "id": "8cce0cb8",
   "metadata": {},
   "outputs": [
    {
     "data": {
      "text/plain": [
       "(250.0, 400.0)"
      ]
     },
     "execution_count": 29,
     "metadata": {},
     "output_type": "execute_result"
    }
   ],
   "source": [
    "grow_rectangle(box, 100, 100)\n",
    "box.width, box.height"
   ]
  },
  {
   "cell_type": "code",
   "execution_count": 30,
   "id": "9b5d848f",
   "metadata": {},
   "outputs": [
    {
     "data": {
      "text/plain": [
       "(350.0, 500.0)"
      ]
     },
     "execution_count": 30,
     "metadata": {},
     "output_type": "execute_result"
    }
   ],
   "source": [
    "grow_rectangle(box, 100, 100)\n",
    "box.width, box.height"
   ]
  },
  {
   "cell_type": "code",
   "execution_count": 31,
   "id": "f4220cbd",
   "metadata": {},
   "outputs": [],
   "source": [
    "def move_rect(rect, dx, dy):\n",
    "    rect.corner.x += dx\n",
    "    rect.corner.y += dy"
   ]
  },
  {
   "cell_type": "code",
   "execution_count": 32,
   "id": "a974aa54",
   "metadata": {},
   "outputs": [],
   "source": [
    "move_rect(box, 10, 15)"
   ]
  },
  {
   "cell_type": "code",
   "execution_count": 34,
   "id": "a0f192fd",
   "metadata": {},
   "outputs": [
    {
     "name": "stdout",
     "output_type": "stream",
     "text": [
      "(10, 15)\n"
     ]
    }
   ],
   "source": [
    "jj = box.corner\n",
    "imprime_ponto(jj)"
   ]
  },
  {
   "cell_type": "code",
   "execution_count": 35,
   "id": "6dd89d4e",
   "metadata": {},
   "outputs": [],
   "source": [
    "p1 = Point()\n",
    "p1.x = 77\n",
    "p1.y = 89\n",
    "import copy\n",
    "p2 = copy.copy(p1)"
   ]
  },
  {
   "cell_type": "code",
   "execution_count": 36,
   "id": "1dd7033b",
   "metadata": {},
   "outputs": [
    {
     "name": "stdout",
     "output_type": "stream",
     "text": [
      "(77, 89)\n"
     ]
    }
   ],
   "source": [
    "imprime_ponto(p1)"
   ]
  },
  {
   "cell_type": "code",
   "execution_count": 37,
   "id": "86f2aff8",
   "metadata": {},
   "outputs": [
    {
     "name": "stdout",
     "output_type": "stream",
     "text": [
      "(77, 89)\n"
     ]
    }
   ],
   "source": [
    "imprime_ponto(p2)"
   ]
  },
  {
   "cell_type": "code",
   "execution_count": 38,
   "id": "f8b55c76",
   "metadata": {},
   "outputs": [
    {
     "data": {
      "text/plain": [
       "False"
      ]
     },
     "execution_count": 38,
     "metadata": {},
     "output_type": "execute_result"
    }
   ],
   "source": [
    "p1 == p2"
   ]
  },
  {
   "cell_type": "code",
   "execution_count": 39,
   "id": "0839b719",
   "metadata": {},
   "outputs": [
    {
     "data": {
      "text/plain": [
       "False"
      ]
     },
     "execution_count": 39,
     "metadata": {},
     "output_type": "execute_result"
    }
   ],
   "source": [
    "p1 is p2"
   ]
  },
  {
   "cell_type": "code",
   "execution_count": 42,
   "id": "d9742361",
   "metadata": {},
   "outputs": [
    {
     "data": {
      "text/plain": [
       "True"
      ]
     },
     "execution_count": 42,
     "metadata": {},
     "output_type": "execute_result"
    }
   ],
   "source": [
    "box2 = copy.copy(box)\n",
    "box2.height == box.height"
   ]
  },
  {
   "cell_type": "code",
   "execution_count": 41,
   "id": "a0d2feff",
   "metadata": {},
   "outputs": [
    {
     "data": {
      "text/plain": [
       "True"
      ]
     },
     "execution_count": 41,
     "metadata": {},
     "output_type": "execute_result"
    }
   ],
   "source": [
    "box2.corner == box.corner"
   ]
  },
  {
   "cell_type": "code",
   "execution_count": 43,
   "id": "35c66934",
   "metadata": {},
   "outputs": [],
   "source": [
    "box3 = copy.deepcopy(box)"
   ]
  },
  {
   "cell_type": "code",
   "execution_count": 44,
   "id": "9e89dcf9",
   "metadata": {},
   "outputs": [
    {
     "data": {
      "text/plain": [
       "False"
      ]
     },
     "execution_count": 44,
     "metadata": {},
     "output_type": "execute_result"
    }
   ],
   "source": [
    "box3 is box"
   ]
  },
  {
   "cell_type": "code",
   "execution_count": 45,
   "id": "7cc75760",
   "metadata": {},
   "outputs": [
    {
     "data": {
      "text/plain": [
       "False"
      ]
     },
     "execution_count": 45,
     "metadata": {},
     "output_type": "execute_result"
    }
   ],
   "source": [
    "box3.corner is box.corner"
   ]
  },
  {
   "cell_type": "code",
   "execution_count": 46,
   "id": "d8a262af",
   "metadata": {},
   "outputs": [],
   "source": [
    "def move_rect(rect, dx, dy):\n",
    "    rect = copy.deepcopy(rect)\n",
    "    rect.corner.x += dx\n",
    "    rect.corner.y += dy"
   ]
  },
  {
   "cell_type": "code",
   "execution_count": 49,
   "id": "806b4c12",
   "metadata": {},
   "outputs": [],
   "source": [
    "move_rect(box, 10, 20)"
   ]
  },
  {
   "cell_type": "code",
   "execution_count": 51,
   "id": "ad8ef0e0",
   "metadata": {},
   "outputs": [
    {
     "data": {
      "text/plain": [
       "10.0"
      ]
     },
     "execution_count": 51,
     "metadata": {},
     "output_type": "execute_result"
    }
   ],
   "source": [
    "box.corner.x"
   ]
  },
  {
   "cell_type": "code",
   "execution_count": 55,
   "id": "fd5174a2",
   "metadata": {},
   "outputs": [
    {
     "ename": "AttributeError",
     "evalue": "'Point' object has no attribute 'y'",
     "output_type": "error",
     "traceback": [
      "\u001b[1;31m---------------------------------------------------------------------------\u001b[0m",
      "\u001b[1;31mAttributeError\u001b[0m                            Traceback (most recent call last)",
      "\u001b[1;32m<ipython-input-55-98d872fa875e>\u001b[0m in \u001b[0;36m<module>\u001b[1;34m\u001b[0m\n\u001b[0;32m      2\u001b[0m \u001b[0mp\u001b[0m\u001b[1;33m.\u001b[0m\u001b[0mx\u001b[0m \u001b[1;33m=\u001b[0m \u001b[1;36m12\u001b[0m\u001b[1;33m\u001b[0m\u001b[1;33m\u001b[0m\u001b[0m\n\u001b[0;32m      3\u001b[0m \u001b[0mp\u001b[0m\u001b[1;33m.\u001b[0m\u001b[0mz\u001b[0m \u001b[1;33m=\u001b[0m \u001b[1;36m13\u001b[0m\u001b[1;33m\u001b[0m\u001b[1;33m\u001b[0m\u001b[0m\n\u001b[1;32m----> 4\u001b[1;33m \u001b[0mp\u001b[0m\u001b[1;33m.\u001b[0m\u001b[0my\u001b[0m\u001b[1;33m\u001b[0m\u001b[1;33m\u001b[0m\u001b[0m\n\u001b[0m",
      "\u001b[1;31mAttributeError\u001b[0m: 'Point' object has no attribute 'y'"
     ]
    }
   ],
   "source": [
    "p = Point()\n",
    "p.x = 12\n",
    "p.z = 13\n",
    "p.y"
   ]
  },
  {
   "cell_type": "code",
   "execution_count": 56,
   "id": "68980527",
   "metadata": {},
   "outputs": [
    {
     "data": {
      "text/plain": [
       "__main__.Point"
      ]
     },
     "execution_count": 56,
     "metadata": {},
     "output_type": "execute_result"
    }
   ],
   "source": [
    "type(p)"
   ]
  },
  {
   "cell_type": "code",
   "execution_count": 57,
   "id": "e4ebd1fe",
   "metadata": {},
   "outputs": [
    {
     "data": {
      "text/plain": [
       "True"
      ]
     },
     "execution_count": 57,
     "metadata": {},
     "output_type": "execute_result"
    }
   ],
   "source": [
    "isinstance(p, Point)"
   ]
  },
  {
   "cell_type": "code",
   "execution_count": 58,
   "id": "3e838cc1",
   "metadata": {},
   "outputs": [
    {
     "data": {
      "text/plain": [
       "True"
      ]
     },
     "execution_count": 58,
     "metadata": {},
     "output_type": "execute_result"
    }
   ],
   "source": [
    "isinstance(box, Rectangle)"
   ]
  },
  {
   "cell_type": "code",
   "execution_count": 60,
   "id": "f3f9cc2e",
   "metadata": {},
   "outputs": [
    {
     "data": {
      "text/plain": [
       "True"
      ]
     },
     "execution_count": 60,
     "metadata": {},
     "output_type": "execute_result"
    }
   ],
   "source": [
    "hasattr(p, 'x')"
   ]
  },
  {
   "cell_type": "code",
   "execution_count": 61,
   "id": "dfa5422f",
   "metadata": {},
   "outputs": [
    {
     "data": {
      "text/plain": [
       "False"
      ]
     },
     "execution_count": 61,
     "metadata": {},
     "output_type": "execute_result"
    }
   ],
   "source": [
    "hasattr(p, 'y')"
   ]
  },
  {
   "cell_type": "code",
   "execution_count": 66,
   "id": "e9d95ff8",
   "metadata": {},
   "outputs": [],
   "source": [
    "try:\n",
    "    hasattr(p, p.y)\n",
    "except AttributeError:\n",
    "    p.y = 0\n"
   ]
  },
  {
   "cell_type": "code",
   "execution_count": 67,
   "id": "7bb3ca83",
   "metadata": {},
   "outputs": [
    {
     "data": {
      "text/plain": [
       "0"
      ]
     },
     "execution_count": 67,
     "metadata": {},
     "output_type": "execute_result"
    }
   ],
   "source": [
    "p.y"
   ]
  },
  {
   "cell_type": "code",
   "execution_count": 68,
   "id": "3281b81a",
   "metadata": {},
   "outputs": [],
   "source": [
    "class Circle:\n",
    "    \"\"\"Repersenta um círculo.\n",
    "    Atributos: center e radius\"\"\""
   ]
  },
  {
   "cell_type": "code",
   "execution_count": 69,
   "id": "cea470bb",
   "metadata": {},
   "outputs": [],
   "source": [
    "circ = Circle()"
   ]
  },
  {
   "cell_type": "code",
   "execution_count": 70,
   "id": "9b7eb1bf",
   "metadata": {},
   "outputs": [],
   "source": [
    "circ.radius = 5\n",
    "circ.center = Point()\n",
    "circ.center.x = 10\n",
    "circ.center.y = 10"
   ]
  },
  {
   "cell_type": "code",
   "execution_count": 72,
   "id": "1f20206a",
   "metadata": {},
   "outputs": [
    {
     "data": {
      "text/plain": [
       "(10, 10, 5)"
      ]
     },
     "execution_count": 72,
     "metadata": {},
     "output_type": "execute_result"
    }
   ],
   "source": [
    "circ.center.x, circ.center.y, circ.radius"
   ]
  },
  {
   "cell_type": "code",
   "execution_count": 73,
   "id": "b9d554c8",
   "metadata": {},
   "outputs": [],
   "source": [
    "circulo = Circle()"
   ]
  },
  {
   "cell_type": "code",
   "execution_count": 74,
   "id": "a36a1b4d",
   "metadata": {},
   "outputs": [],
   "source": [
    "circulo.radius = 75\n",
    "circulo.center = Point()\n",
    "circulo.center.x = 150\n",
    "circulo.center.y = 100"
   ]
  },
  {
   "cell_type": "code",
   "execution_count": 77,
   "id": "8dc2bf22",
   "metadata": {},
   "outputs": [],
   "source": [
    "def point_in_circle(circle, point):\n",
    "    return (math.sqrt(circle.center.x - point.x)**2 + (circle.center.y - point.y)**2) <= circle.radius"
   ]
  },
  {
   "cell_type": "code",
   "execution_count": 78,
   "id": "a8255652",
   "metadata": {},
   "outputs": [
    {
     "data": {
      "text/plain": [
       "False"
      ]
     },
     "execution_count": 78,
     "metadata": {},
     "output_type": "execute_result"
    }
   ],
   "source": [
    "point_in_circle(circulo, p)"
   ]
  },
  {
   "cell_type": "code",
   "execution_count": null,
   "id": "b7f580ad",
   "metadata": {},
   "outputs": [],
   "source": []
  }
 ],
 "metadata": {
  "kernelspec": {
   "display_name": "Python 3",
   "language": "python",
   "name": "python3"
  },
  "language_info": {
   "codemirror_mode": {
    "name": "ipython",
    "version": 3
   },
   "file_extension": ".py",
   "mimetype": "text/x-python",
   "name": "python",
   "nbconvert_exporter": "python",
   "pygments_lexer": "ipython3",
   "version": "3.8.8"
  }
 },
 "nbformat": 4,
 "nbformat_minor": 5
}
