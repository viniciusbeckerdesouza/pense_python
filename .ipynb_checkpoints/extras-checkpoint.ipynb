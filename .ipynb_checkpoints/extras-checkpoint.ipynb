{
 "cells": [
  {
   "cell_type": "markdown",
   "id": "ac7302d0",
   "metadata": {},
   "source": [
    "Expressões condicionais"
   ]
  },
  {
   "cell_type": "code",
   "execution_count": 1,
   "id": "60b6fc6c",
   "metadata": {},
   "outputs": [],
   "source": [
    "import math\n",
    "import numpy as np\n",
    "\n",
    "def log_or_nan(x):\n",
    "    if x > 0:\n",
    "        return math.log(x)\n",
    "    else:\n",
    "        return np.nan"
   ]
  },
  {
   "cell_type": "code",
   "execution_count": 2,
   "id": "fbf43788",
   "metadata": {},
   "outputs": [
    {
     "data": {
      "text/plain": [
       "0.0"
      ]
     },
     "execution_count": 2,
     "metadata": {},
     "output_type": "execute_result"
    }
   ],
   "source": [
    "log_or_nan(1)"
   ]
  },
  {
   "cell_type": "code",
   "execution_count": 3,
   "id": "e6faddf6",
   "metadata": {},
   "outputs": [
    {
     "data": {
      "text/plain": [
       "2.302585092994046"
      ]
     },
     "execution_count": 3,
     "metadata": {},
     "output_type": "execute_result"
    }
   ],
   "source": [
    "log_or_nan(10)"
   ]
  },
  {
   "cell_type": "code",
   "execution_count": 4,
   "id": "323920bb",
   "metadata": {},
   "outputs": [
    {
     "data": {
      "text/plain": [
       "nan"
      ]
     },
     "execution_count": 4,
     "metadata": {},
     "output_type": "execute_result"
    }
   ],
   "source": [
    "log_or_nan(-2)"
   ]
  },
  {
   "cell_type": "code",
   "execution_count": 5,
   "id": "cf0b2803",
   "metadata": {},
   "outputs": [
    {
     "data": {
      "text/plain": [
       "nan"
      ]
     },
     "execution_count": 5,
     "metadata": {},
     "output_type": "execute_result"
    }
   ],
   "source": [
    "log_or_nan(0)"
   ]
  },
  {
   "cell_type": "code",
   "execution_count": 6,
   "id": "318b1273",
   "metadata": {},
   "outputs": [],
   "source": [
    "def log_or_nan(x):\n",
    "    return math.log(x) if x > 0 else np.nan"
   ]
  },
  {
   "cell_type": "code",
   "execution_count": 7,
   "id": "44b7df36",
   "metadata": {},
   "outputs": [
    {
     "data": {
      "text/plain": [
       "nan"
      ]
     },
     "execution_count": 7,
     "metadata": {},
     "output_type": "execute_result"
    }
   ],
   "source": [
    "log_or_nan(0)"
   ]
  },
  {
   "cell_type": "code",
   "execution_count": 8,
   "id": "f3770c21",
   "metadata": {},
   "outputs": [
    {
     "data": {
      "text/plain": [
       "4.605170185988092"
      ]
     },
     "execution_count": 8,
     "metadata": {},
     "output_type": "execute_result"
    }
   ],
   "source": [
    "log_or_nan(100)"
   ]
  },
  {
   "cell_type": "code",
   "execution_count": 9,
   "id": "387fbefb",
   "metadata": {},
   "outputs": [
    {
     "data": {
      "text/plain": [
       "nan"
      ]
     },
     "execution_count": 9,
     "metadata": {},
     "output_type": "execute_result"
    }
   ],
   "source": [
    "log_or_nan(-333)"
   ]
  },
  {
   "cell_type": "code",
   "execution_count": 11,
   "id": "79e73872",
   "metadata": {},
   "outputs": [],
   "source": [
    "def factorial(x):\n",
    "    return 1 if x == 0 else x * factorial(x - 1)"
   ]
  },
  {
   "cell_type": "code",
   "execution_count": 12,
   "id": "1a97077d",
   "metadata": {},
   "outputs": [
    {
     "data": {
      "text/plain": [
       "120"
      ]
     },
     "execution_count": 12,
     "metadata": {},
     "output_type": "execute_result"
    }
   ],
   "source": [
    "factorial(5)"
   ]
  },
  {
   "cell_type": "code",
   "execution_count": 13,
   "id": "b8d54baa",
   "metadata": {},
   "outputs": [
    {
     "data": {
      "text/plain": [
       "3628800"
      ]
     },
     "execution_count": 13,
     "metadata": {},
     "output_type": "execute_result"
    }
   ],
   "source": [
    "factorial(10)"
   ]
  },
  {
   "cell_type": "code",
   "execution_count": 14,
   "id": "03661867",
   "metadata": {},
   "outputs": [
    {
     "data": {
      "text/plain": [
       "2432902008176640000"
      ]
     },
     "execution_count": 14,
     "metadata": {},
     "output_type": "execute_result"
    }
   ],
   "source": [
    "factorial(20)"
   ]
  },
  {
   "cell_type": "code",
   "execution_count": 15,
   "id": "750352f0",
   "metadata": {},
   "outputs": [
    {
     "data": {
      "text/plain": [
       "93326215443944152681699238856266700490715968264381621468592963895217599993229915608941463976156518286253697920827223758251185210916864000000000000000000000000"
      ]
     },
     "execution_count": 15,
     "metadata": {},
     "output_type": "execute_result"
    }
   ],
   "source": [
    "factorial(100)"
   ]
  },
  {
   "cell_type": "markdown",
   "id": "2cf9f630",
   "metadata": {},
   "source": [
    "Abrangêcia de lista"
   ]
  },
  {
   "cell_type": "code",
   "execution_count": 16,
   "id": "a7b67a8c",
   "metadata": {},
   "outputs": [],
   "source": [
    "def capitalize_all(t):\n",
    "    res = []\n",
    "    for s in t:\n",
    "        res.append(s.capitalize())\n",
    "    return res"
   ]
  },
  {
   "cell_type": "code",
   "execution_count": 17,
   "id": "1909e207",
   "metadata": {},
   "outputs": [
    {
     "data": {
      "text/plain": [
       "['A', 'M', 'A', 'N', 'H', 'A']"
      ]
     },
     "execution_count": 17,
     "metadata": {},
     "output_type": "execute_result"
    }
   ],
   "source": [
    "capitalize_all('amanha')"
   ]
  },
  {
   "cell_type": "code",
   "execution_count": 24,
   "id": "bbdbcf01",
   "metadata": {},
   "outputs": [],
   "source": [
    "def capitalize_all(t):\n",
    "    return [s.capitalize() for s in t ]"
   ]
  },
  {
   "cell_type": "code",
   "execution_count": 25,
   "id": "1815ae7b",
   "metadata": {},
   "outputs": [
    {
     "data": {
      "text/plain": [
       "['H', 'O', 'J', 'E', ' ', 'T', 'E', 'M']"
      ]
     },
     "execution_count": 25,
     "metadata": {},
     "output_type": "execute_result"
    }
   ],
   "source": [
    "capitalize_all('hoje tem')"
   ]
  },
  {
   "cell_type": "markdown",
   "id": "f7f85cb2",
   "metadata": {},
   "source": [
    "Expressões geradoras"
   ]
  },
  {
   "cell_type": "code",
   "execution_count": 26,
   "id": "0ea1702e",
   "metadata": {},
   "outputs": [],
   "source": [
    "ger = (x ** 2 for x in range(5))"
   ]
  },
  {
   "cell_type": "code",
   "execution_count": 27,
   "id": "125ed45b",
   "metadata": {},
   "outputs": [
    {
     "data": {
      "text/plain": [
       "<generator object <genexpr> at 0x000000000570BDD0>"
      ]
     },
     "execution_count": 27,
     "metadata": {},
     "output_type": "execute_result"
    }
   ],
   "source": [
    "ger"
   ]
  },
  {
   "cell_type": "code",
   "execution_count": 28,
   "id": "8ed63af0",
   "metadata": {},
   "outputs": [
    {
     "data": {
      "text/plain": [
       "0"
      ]
     },
     "execution_count": 28,
     "metadata": {},
     "output_type": "execute_result"
    }
   ],
   "source": [
    "next(ger)"
   ]
  },
  {
   "cell_type": "code",
   "execution_count": 29,
   "id": "5b6b3611",
   "metadata": {},
   "outputs": [
    {
     "data": {
      "text/plain": [
       "1"
      ]
     },
     "execution_count": 29,
     "metadata": {},
     "output_type": "execute_result"
    }
   ],
   "source": [
    "next(ger)"
   ]
  },
  {
   "cell_type": "code",
   "execution_count": 30,
   "id": "49d0b063",
   "metadata": {},
   "outputs": [
    {
     "name": "stdout",
     "output_type": "stream",
     "text": [
      "4\n",
      "9\n",
      "16\n"
     ]
    }
   ],
   "source": [
    "for x in ger:\n",
    "    print(x)"
   ]
  },
  {
   "cell_type": "code",
   "execution_count": 33,
   "id": "5da32452",
   "metadata": {},
   "outputs": [
    {
     "ename": "StopIteration",
     "evalue": "",
     "output_type": "error",
     "traceback": [
      "\u001b[1;31m---------------------------------------------------------------------------\u001b[0m",
      "\u001b[1;31mStopIteration\u001b[0m                             Traceback (most recent call last)",
      "\u001b[1;32m<ipython-input-33-fea75e829596>\u001b[0m in \u001b[0;36m<module>\u001b[1;34m\u001b[0m\n\u001b[1;32m----> 1\u001b[1;33m \u001b[0mnext\u001b[0m\u001b[1;33m(\u001b[0m\u001b[0mger\u001b[0m\u001b[1;33m)\u001b[0m\u001b[1;33m\u001b[0m\u001b[1;33m\u001b[0m\u001b[0m\n\u001b[0m",
      "\u001b[1;31mStopIteration\u001b[0m: "
     ]
    }
   ],
   "source": [
    "next(ger)"
   ]
  },
  {
   "cell_type": "code",
   "execution_count": 35,
   "id": "908575a1",
   "metadata": {},
   "outputs": [
    {
     "data": {
      "text/plain": [
       "100"
      ]
     },
     "execution_count": 35,
     "metadata": {},
     "output_type": "execute_result"
    }
   ],
   "source": [
    "sum( x ** 3 for x in range(5))"
   ]
  },
  {
   "cell_type": "markdown",
   "id": "291c9720",
   "metadata": {},
   "source": [
    "any e all"
   ]
  },
  {
   "cell_type": "code",
   "execution_count": 36,
   "id": "ad7da033",
   "metadata": {},
   "outputs": [
    {
     "data": {
      "text/plain": [
       "True"
      ]
     },
     "execution_count": 36,
     "metadata": {},
     "output_type": "execute_result"
    }
   ],
   "source": [
    "any([False, False, True])"
   ]
  },
  {
   "cell_type": "code",
   "execution_count": 37,
   "id": "51816829",
   "metadata": {},
   "outputs": [
    {
     "data": {
      "text/plain": [
       "False"
      ]
     },
     "execution_count": 37,
     "metadata": {},
     "output_type": "execute_result"
    }
   ],
   "source": [
    "any([False, False, False])"
   ]
  },
  {
   "cell_type": "code",
   "execution_count": 38,
   "id": "93c4b450",
   "metadata": {},
   "outputs": [
    {
     "data": {
      "text/plain": [
       "True"
      ]
     },
     "execution_count": 38,
     "metadata": {},
     "output_type": "execute_result"
    }
   ],
   "source": [
    "any(letter == 't' for letter in 'monty')"
   ]
  },
  {
   "cell_type": "code",
   "execution_count": 41,
   "id": "48ca88ae",
   "metadata": {},
   "outputs": [
    {
     "data": {
      "text/plain": [
       "False"
      ]
     },
     "execution_count": 41,
     "metadata": {},
     "output_type": "execute_result"
    }
   ],
   "source": [
    "any(x > 0 for x in range(-10, -1))"
   ]
  },
  {
   "cell_type": "code",
   "execution_count": 42,
   "id": "232e6cab",
   "metadata": {},
   "outputs": [],
   "source": [
    "def avoids(word, forbidden):\n",
    "    return not any(letter in forbidden for letter in word)"
   ]
  },
  {
   "cell_type": "code",
   "execution_count": 44,
   "id": "6eaa5143",
   "metadata": {},
   "outputs": [
    {
     "data": {
      "text/plain": [
       "False"
      ]
     },
     "execution_count": 44,
     "metadata": {},
     "output_type": "execute_result"
    }
   ],
   "source": [
    "avoids('itaquaquecetuba', 'q')"
   ]
  },
  {
   "cell_type": "code",
   "execution_count": 45,
   "id": "168907a7",
   "metadata": {},
   "outputs": [
    {
     "data": {
      "text/plain": [
       "True"
      ]
     },
     "execution_count": 45,
     "metadata": {},
     "output_type": "execute_result"
    }
   ],
   "source": [
    "all([True, True])"
   ]
  },
  {
   "cell_type": "code",
   "execution_count": 46,
   "id": "61b9dea5",
   "metadata": {},
   "outputs": [
    {
     "data": {
      "text/plain": [
       "False"
      ]
     },
     "execution_count": 46,
     "metadata": {},
     "output_type": "execute_result"
    }
   ],
   "source": [
    "all([False, False])"
   ]
  },
  {
   "cell_type": "code",
   "execution_count": 47,
   "id": "e522e291",
   "metadata": {},
   "outputs": [
    {
     "data": {
      "text/plain": [
       "False"
      ]
     },
     "execution_count": 47,
     "metadata": {},
     "output_type": "execute_result"
    }
   ],
   "source": [
    "all([False, True])"
   ]
  },
  {
   "cell_type": "code",
   "execution_count": 48,
   "id": "b4d80a16",
   "metadata": {},
   "outputs": [
    {
     "data": {
      "text/plain": [
       "True"
      ]
     },
     "execution_count": 48,
     "metadata": {},
     "output_type": "execute_result"
    }
   ],
   "source": [
    "all([not False, True])"
   ]
  },
  {
   "cell_type": "code",
   "execution_count": 50,
   "id": "41705dac",
   "metadata": {},
   "outputs": [],
   "source": [
    "def uses_all(word, required):\n",
    "    for letter in required:\n",
    "        if letter not in word:\n",
    "            return False\n",
    "    return True"
   ]
  },
  {
   "cell_type": "code",
   "execution_count": 52,
   "id": "458983f6",
   "metadata": {},
   "outputs": [
    {
     "data": {
      "text/plain": [
       "False"
      ]
     },
     "execution_count": 52,
     "metadata": {},
     "output_type": "execute_result"
    }
   ],
   "source": [
    "uses_all('hoje', 'x')"
   ]
  },
  {
   "cell_type": "code",
   "execution_count": 65,
   "id": "2f2de0dd",
   "metadata": {},
   "outputs": [],
   "source": [
    "def uses_all(word, required):\n",
    "    for letter in required:\n",
    "        pass\n"
   ]
  },
  {
   "cell_type": "code",
   "execution_count": null,
   "id": "f6e94885",
   "metadata": {},
   "outputs": [],
   "source": []
  }
 ],
 "metadata": {
  "kernelspec": {
   "display_name": "Python 3",
   "language": "python",
   "name": "python3"
  },
  "language_info": {
   "codemirror_mode": {
    "name": "ipython",
    "version": 3
   },
   "file_extension": ".py",
   "mimetype": "text/x-python",
   "name": "python",
   "nbconvert_exporter": "python",
   "pygments_lexer": "ipython3",
   "version": "3.8.8"
  }
 },
 "nbformat": 4,
 "nbformat_minor": 5
}
