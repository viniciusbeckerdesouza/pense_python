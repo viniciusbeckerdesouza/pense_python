{
 "cells": [
  {
   "cell_type": "code",
   "execution_count": null,
   "id": "6f3eb5a3",
   "metadata": {},
   "outputs": [],
   "source": [
    "class Card:\n",
    "    \"\"\"Representa um baralho\"\"\"\n",
    "    \n",
    "    def __init__(self, suit=0, rank=2):\n",
    "        self.suit = suit\n",
    "        self.rank = rank"
   ]
  },
  {
   "cell_type": "code",
   "execution_count": null,
   "id": "96ddc0f0",
   "metadata": {},
   "outputs": [],
   "source": [
    "queens_of_diamonds = Card(1, 12)"
   ]
  },
  {
   "cell_type": "code",
   "execution_count": null,
   "id": "4eea5291",
   "metadata": {},
   "outputs": [],
   "source": [
    "queens_of_diamonds"
   ]
  },
  {
   "cell_type": "code",
   "execution_count": null,
   "id": "2e3edb0f",
   "metadata": {},
   "outputs": [],
   "source": [
    "class Card:\n",
    "    \"\"\"Representa um baralho\"\"\"\n",
    "    \n",
    "    def __init__(self, suit=0, rank=2):\n",
    "        self.suit = suit\n",
    "        self.rank = rank\n",
    "        \n",
    "    suit_names = ['Clubs', 'Diamonds', 'Hearts', 'Spades']\n",
    "    rank_names = [None, 'Ace', '2', '3', '4', '5', '6', '7',\n",
    "                  '8', '9', '10', 'Jack', 'Queen', 'King']\n",
    "    \n",
    "    def __str__(self):\n",
    "        return '%s of %s' % (Card.rank_names[self.rank],\n",
    "                            Card.suit_names[self.suit])"
   ]
  },
  {
   "cell_type": "code",
   "execution_count": null,
   "id": "ceb7827b",
   "metadata": {},
   "outputs": [],
   "source": [
    "card1 = Card(1, 11)\n",
    "print(card1)"
   ]
  },
  {
   "cell_type": "code",
   "execution_count": null,
   "id": "e5de2737",
   "metadata": {},
   "outputs": [],
   "source": [
    "card2 = Card(3, 3)\n",
    "print(card2)"
   ]
  },
  {
   "cell_type": "code",
   "execution_count": null,
   "id": "1806c7e6",
   "metadata": {},
   "outputs": [],
   "source": [
    "card3 = Card(0, 1)\n",
    "print(card3)"
   ]
  },
  {
   "cell_type": "code",
   "execution_count": null,
   "id": "f4de409f",
   "metadata": {},
   "outputs": [],
   "source": [
    "card0 = Card(0, 0)\n",
    "print(card0)"
   ]
  },
  {
   "cell_type": "code",
   "execution_count": null,
   "id": "b4ca5fc9",
   "metadata": {},
   "outputs": [],
   "source": [
    "type(Card)"
   ]
  },
  {
   "cell_type": "code",
   "execution_count": null,
   "id": "fb457b1a",
   "metadata": {},
   "outputs": [],
   "source": [
    "type(card0)"
   ]
  },
  {
   "cell_type": "code",
   "execution_count": null,
   "id": "aa4660ab",
   "metadata": {},
   "outputs": [],
   "source": [
    "class Card:\n",
    "    \"\"\"Representa um baralho\"\"\"\n",
    "    \n",
    "    def __init__(self, suit=0, rank=2):\n",
    "        self.suit = suit\n",
    "        self.rank = rank\n",
    "        \n",
    "    suit_names = ['Clubs', 'Diamonds', 'Hearts', 'Spades']\n",
    "    rank_names = [None, 'Ace', '2', '3', '4', '5', '6', '7',\n",
    "                  '8', '9', '10', 'Jack', 'Queen', 'King']\n",
    "    \n",
    "    def __str__(self):\n",
    "        return '%s of %s' % (Card.rank_names[self.rank],\n",
    "                            Card.suit_names[self.suit])\n",
    "    \n",
    "    \"\"\"def __lt__(self, other):\n",
    "        #conferir os naipes\n",
    "        if self.suit < other.suit: return True\n",
    "        if self.suit > other.suit: return False\n",
    "        #se os naipes são os mesmos, confere valores\n",
    "        return self.rank < other.rank\"\"\"\n",
    "    def __lt__(self, other):\n",
    "        t1 = self.suit, self.rank\n",
    "        t2 = other.suit, other.rank\n",
    "        return t1 < t2"
   ]
  },
  {
   "cell_type": "code",
   "execution_count": null,
   "id": "dfec0385",
   "metadata": {},
   "outputs": [],
   "source": [
    "cardA = Card(2,3)\n",
    "cardB = Card(2,4)"
   ]
  },
  {
   "cell_type": "code",
   "execution_count": null,
   "id": "fe39c1a7",
   "metadata": {},
   "outputs": [],
   "source": [
    "cardA > cardB"
   ]
  },
  {
   "cell_type": "code",
   "execution_count": null,
   "id": "b43719af",
   "metadata": {},
   "outputs": [],
   "source": [
    "cardA == cardB"
   ]
  },
  {
   "cell_type": "code",
   "execution_count": null,
   "id": "3ccc71ef",
   "metadata": {},
   "outputs": [],
   "source": [
    "cardA < cardB"
   ]
  },
  {
   "cell_type": "code",
   "execution_count": null,
   "id": "d6030b11",
   "metadata": {},
   "outputs": [],
   "source": [
    "class Deck:\n",
    "    \"\"\"Cria um baralho\"\"\"\n",
    "    def __init__(self):\n",
    "        self.cards = []\n",
    "        for suit in range(4):\n",
    "            for rank in range(1, 14):\n",
    "                card = Card(suit, rank)\n",
    "                self.cards.append(card)"
   ]
  },
  {
   "cell_type": "code",
   "execution_count": null,
   "id": "e1c5c38c",
   "metadata": {},
   "outputs": [],
   "source": [
    "deck1 = Deck()"
   ]
  },
  {
   "cell_type": "code",
   "execution_count": null,
   "id": "38578f34",
   "metadata": {},
   "outputs": [],
   "source": [
    "deck1"
   ]
  },
  {
   "cell_type": "code",
   "execution_count": null,
   "id": "371c5184",
   "metadata": {},
   "outputs": [],
   "source": [
    "class Deck:\n",
    "    \"\"\"Cria um baralho\"\"\"\n",
    "    def __init__(self):\n",
    "        self.cards = []\n",
    "        for suit in range(4):\n",
    "            for rank in range(1, 14):\n",
    "                card = Card(suit, rank)\n",
    "                self.cards.append(card)\n",
    "                \n",
    "    def __str__(self):\n",
    "        res = []\n",
    "        for card in self.cards:\n",
    "            res.append(str(card))\n",
    "        return '\\n'.join(res)\n",
    "            "
   ]
  },
  {
   "cell_type": "code",
   "execution_count": null,
   "id": "2864d4e5",
   "metadata": {},
   "outputs": [],
   "source": [
    "deck2 = Deck()\n",
    "print(deck2)"
   ]
  },
  {
   "cell_type": "code",
   "execution_count": 34,
   "id": "10cd6d01",
   "metadata": {},
   "outputs": [],
   "source": [
    "class Deck:\n",
    "    \"\"\"Cria um baralho\"\"\"\n",
    "    def __init__(self):\n",
    "        self.cards = []\n",
    "        for suit in range(4):\n",
    "            for rank in range(1, 14):\n",
    "                card = Card(suit, rank)\n",
    "                self.cards.append(card)\n",
    "                \n",
    "    def __str__(self):\n",
    "        res = []\n",
    "        for card in self.cards:\n",
    "            res.append(str(card))\n",
    "        return '\\n'.join(res)\n",
    "    \n",
    "    def pop_card(self):\n",
    "        return self.cards.pop()\n",
    "    \n",
    "    def add_card(self, card):\n",
    "        return self.cards.append(card)\n",
    "        \n",
    "    def shuffle(self):\n",
    "        import random\n",
    "        random.shuffle(self.cards)"
   ]
  },
  {
   "cell_type": "code",
   "execution_count": 35,
   "id": "ea97d1e8",
   "metadata": {},
   "outputs": [],
   "source": [
    "d = Deck()"
   ]
  },
  {
   "cell_type": "code",
   "execution_count": 36,
   "id": "22bbfcd4",
   "metadata": {},
   "outputs": [
    {
     "name": "stdout",
     "output_type": "stream",
     "text": [
      "Ace of Clubs\n",
      "2 of Clubs\n",
      "3 of Clubs\n",
      "4 of Clubs\n",
      "5 of Clubs\n",
      "6 of Clubs\n",
      "7 of Clubs\n",
      "8 of Clubs\n",
      "9 of Clubs\n",
      "10 of Clubs\n",
      "Jack of Clubs\n",
      "Queen of Clubs\n",
      "King of Clubs\n",
      "Ace of Diamonds\n",
      "2 of Diamonds\n",
      "3 of Diamonds\n",
      "4 of Diamonds\n",
      "5 of Diamonds\n",
      "6 of Diamonds\n",
      "7 of Diamonds\n",
      "8 of Diamonds\n",
      "9 of Diamonds\n",
      "10 of Diamonds\n",
      "Jack of Diamonds\n",
      "Queen of Diamonds\n",
      "King of Diamonds\n",
      "Ace of Hearts\n",
      "2 of Hearts\n",
      "3 of Hearts\n",
      "4 of Hearts\n",
      "5 of Hearts\n",
      "6 of Hearts\n",
      "7 of Hearts\n",
      "8 of Hearts\n",
      "9 of Hearts\n",
      "10 of Hearts\n",
      "Jack of Hearts\n",
      "Queen of Hearts\n",
      "King of Hearts\n",
      "Ace of Spades\n",
      "2 of Spades\n",
      "3 of Spades\n"
     ]
    }
   ],
   "source": [
    "for ii in range(10):\n",
    "    d.pop_card()\n",
    "print(d)"
   ]
  },
  {
   "cell_type": "code",
   "execution_count": 37,
   "id": "b52bd66d",
   "metadata": {},
   "outputs": [
    {
     "name": "stdout",
     "output_type": "stream",
     "text": [
      "Ace of Clubs\n",
      "2 of Clubs\n",
      "3 of Clubs\n",
      "4 of Clubs\n",
      "5 of Clubs\n",
      "6 of Clubs\n",
      "7 of Clubs\n",
      "8 of Clubs\n",
      "9 of Clubs\n",
      "10 of Clubs\n",
      "Jack of Clubs\n",
      "Queen of Clubs\n",
      "King of Clubs\n",
      "Ace of Diamonds\n",
      "2 of Diamonds\n",
      "3 of Diamonds\n",
      "4 of Diamonds\n",
      "5 of Diamonds\n",
      "6 of Diamonds\n",
      "7 of Diamonds\n",
      "8 of Diamonds\n",
      "9 of Diamonds\n",
      "10 of Diamonds\n",
      "Jack of Diamonds\n",
      "Queen of Diamonds\n",
      "King of Diamonds\n",
      "Ace of Hearts\n",
      "2 of Hearts\n",
      "3 of Hearts\n",
      "4 of Hearts\n",
      "5 of Hearts\n",
      "6 of Hearts\n",
      "7 of Hearts\n",
      "8 of Hearts\n",
      "9 of Hearts\n",
      "10 of Hearts\n",
      "Jack of Hearts\n",
      "Queen of Hearts\n",
      "King of Hearts\n",
      "Ace of Spades\n",
      "2 of Spades\n",
      "3 of Spades\n",
      "2 of Hearts\n"
     ]
    }
   ],
   "source": [
    "c = Card(2,2)\n",
    "d.add_card(c)\n",
    "print(d)"
   ]
  },
  {
   "cell_type": "code",
   "execution_count": 49,
   "id": "c1880ab0",
   "metadata": {},
   "outputs": [
    {
     "name": "stdout",
     "output_type": "stream",
     "text": [
      "9 of Diamonds\n",
      "9 of Spades\n",
      "8 of Diamonds\n",
      "2 of Diamonds\n",
      "4 of Hearts\n",
      "5 of Spades\n",
      "4 of Diamonds\n",
      "8 of Clubs\n",
      "Queen of Diamonds\n",
      "King of Diamonds\n",
      "7 of Spades\n",
      "7 of Diamonds\n",
      "5 of Clubs\n",
      "King of Spades\n",
      "Jack of Hearts\n",
      "9 of Hearts\n",
      "10 of Diamonds\n",
      "4 of Spades\n",
      "8 of Spades\n",
      "6 of Hearts\n",
      "Queen of Clubs\n",
      "6 of Spades\n",
      "Jack of Diamonds\n",
      "10 of Clubs\n",
      "Queen of Spades\n",
      "King of Clubs\n",
      "6 of Diamonds\n",
      "Queen of Hearts\n",
      "Jack of Spades\n",
      "3 of Spades\n",
      "2 of Hearts\n",
      "Ace of Spades\n",
      "3 of Diamonds\n",
      "10 of Hearts\n",
      "Ace of Hearts\n",
      "3 of Hearts\n",
      "6 of Clubs\n",
      "9 of Clubs\n",
      "Ace of Diamonds\n",
      "Ace of Clubs\n",
      "Jack of Clubs\n",
      "4 of Clubs\n",
      "10 of Spades\n",
      "3 of Clubs\n",
      "8 of Hearts\n",
      "King of Hearts\n",
      "7 of Hearts\n",
      "5 of Diamonds\n",
      "7 of Clubs\n",
      "2 of Clubs\n",
      "5 of Hearts\n",
      "2 of Spades\n"
     ]
    }
   ],
   "source": [
    "x = Deck()\n",
    "x.shuffle()\n",
    "print(x)"
   ]
  },
  {
   "cell_type": "code",
   "execution_count": 80,
   "id": "9b697dbc",
   "metadata": {},
   "outputs": [],
   "source": [
    "class Deck:\n",
    "    \"\"\"Cria um baralho\"\"\"\n",
    "    def __init__(self):\n",
    "        self.cards = []\n",
    "        for suit in range(4):\n",
    "            for rank in range(1, 14):\n",
    "                card = Card(suit, rank)\n",
    "                self.cards.append(card)\n",
    "                \n",
    "    def __str__(self):\n",
    "        res = []\n",
    "        for card in self.cards:\n",
    "            res.append(str(card))\n",
    "        return '\\n'.join(res)\n",
    "    \n",
    "    def pop_card(self):\n",
    "        return self.cards.pop()\n",
    "    \n",
    "    def add_card(self, card):\n",
    "        return self.cards.append(card)\n",
    "        \n",
    "    def shuffle(self):\n",
    "        import random\n",
    "        random.shuffle(self.cards)\n",
    "        \n",
    "    def sort(self):\n",
    "        return self.cards.sort()\n",
    "    \n",
    "    def move_cards(self, hand, num):\n",
    "        for i in range(num):\n",
    "            hand.add_card(self.pop_card())"
   ]
  },
  {
   "cell_type": "code",
   "execution_count": 62,
   "id": "63cf6fb0",
   "metadata": {},
   "outputs": [
    {
     "name": "stdout",
     "output_type": "stream",
     "text": [
      "Ace of Clubs\n",
      "2 of Clubs\n"
     ]
    }
   ],
   "source": [
    "x = Deck()\n",
    "for i in range(50):\n",
    "    x.pop_card()\n",
    "print(x)"
   ]
  },
  {
   "cell_type": "code",
   "execution_count": 63,
   "id": "3c7610fb",
   "metadata": {},
   "outputs": [
    {
     "name": "stdout",
     "output_type": "stream",
     "text": [
      "Ace of Clubs\n",
      "2 of Clubs\n",
      "4 of Diamonds\n",
      "3 of Diamonds\n",
      "Queen of Clubs\n"
     ]
    }
   ],
   "source": [
    "x.add_card(Card(1,4))\n",
    "x.add_card(Card(1,3))\n",
    "x.add_card(Card(0,12))\n",
    "print(x)"
   ]
  },
  {
   "cell_type": "code",
   "execution_count": 64,
   "id": "82b0c407",
   "metadata": {},
   "outputs": [
    {
     "name": "stdout",
     "output_type": "stream",
     "text": [
      "Queen of Clubs\n",
      "2 of Clubs\n",
      "4 of Diamonds\n",
      "3 of Diamonds\n",
      "Ace of Clubs\n"
     ]
    }
   ],
   "source": [
    "x.shuffle()\n",
    "print(x)"
   ]
  },
  {
   "cell_type": "code",
   "execution_count": 65,
   "id": "c8426035",
   "metadata": {},
   "outputs": [
    {
     "name": "stdout",
     "output_type": "stream",
     "text": [
      "Ace of Clubs\n",
      "2 of Clubs\n",
      "Queen of Clubs\n",
      "3 of Diamonds\n",
      "4 of Diamonds\n"
     ]
    }
   ],
   "source": [
    "x.sort()\n",
    "print(x)"
   ]
  },
  {
   "cell_type": "code",
   "execution_count": 68,
   "id": "7f827942",
   "metadata": {},
   "outputs": [],
   "source": [
    "class Hand(Deck):\n",
    "    \"\"\"Representa a mão do jogador\"\"\"\n",
    "    def __init__(self, label=''):\n",
    "        self.cards = []\n",
    "        self.label = label"
   ]
  },
  {
   "cell_type": "code",
   "execution_count": 73,
   "id": "f9dcde6b",
   "metadata": {},
   "outputs": [
    {
     "name": "stdout",
     "output_type": "stream",
     "text": [
      "\n"
     ]
    }
   ],
   "source": [
    "joao = Hand('João')\n",
    "print(joao)"
   ]
  },
  {
   "cell_type": "code",
   "execution_count": 74,
   "id": "aac37cc3",
   "metadata": {},
   "outputs": [
    {
     "name": "stdout",
     "output_type": "stream",
     "text": [
      "Ace of Diamonds\n"
     ]
    }
   ],
   "source": [
    "joao.add_card(Card(1,1))\n",
    "print(joao)"
   ]
  },
  {
   "cell_type": "code",
   "execution_count": 76,
   "id": "2db22aad",
   "metadata": {},
   "outputs": [
    {
     "data": {
      "text/plain": [
       "'João'"
      ]
     },
     "execution_count": 76,
     "metadata": {},
     "output_type": "execute_result"
    }
   ],
   "source": [
    "joao.label"
   ]
  },
  {
   "cell_type": "code",
   "execution_count": 81,
   "id": "5cd640ba",
   "metadata": {},
   "outputs": [],
   "source": [
    "class Hand(Deck):\n",
    "    \"\"\"Representa a mão do jogador\"\"\"\n",
    "    def __init__(self, label=''):\n",
    "        self.cards = []\n",
    "        self.label = label\n",
    "        \n",
    "    "
   ]
  },
  {
   "cell_type": "code",
   "execution_count": 82,
   "id": "cf2d5821",
   "metadata": {},
   "outputs": [],
   "source": [
    "baralho = Deck()\n",
    "joao = Hand('João')\n",
    "maria = Hand('Maria')"
   ]
  },
  {
   "cell_type": "code",
   "execution_count": 84,
   "id": "a1076164",
   "metadata": {},
   "outputs": [],
   "source": [
    "baralho.shuffle()\n",
    "baralho.move_cards(joao, 6)\n",
    "baralho.move_cards(maria, 6)"
   ]
  },
  {
   "cell_type": "code",
   "execution_count": 85,
   "id": "244e582f",
   "metadata": {},
   "outputs": [
    {
     "name": "stdout",
     "output_type": "stream",
     "text": [
      "King of Hearts\n",
      "7 of Diamonds\n",
      "5 of Hearts\n",
      "10 of Clubs\n",
      "10 of Spades\n",
      "Jack of Diamonds\n"
     ]
    }
   ],
   "source": [
    "print(joao)"
   ]
  },
  {
   "cell_type": "code",
   "execution_count": 86,
   "id": "77aa795f",
   "metadata": {},
   "outputs": [
    {
     "name": "stdout",
     "output_type": "stream",
     "text": [
      "9 of Clubs\n",
      "4 of Spades\n",
      "Queen of Spades\n",
      "5 of Spades\n",
      "Jack of Clubs\n",
      "Ace of Clubs\n"
     ]
    }
   ],
   "source": [
    "print(maria)"
   ]
  },
  {
   "cell_type": "code",
   "execution_count": 1,
   "id": "59f51e78",
   "metadata": {},
   "outputs": [
    {
     "name": "stdout",
     "output_type": "stream",
     "text": [
      "<class '__main__.Deck'>\n",
      "10 of Clubs\n",
      "Ace of Diamonds\n",
      "9 of Diamonds\n",
      "Queen of Diamonds\n",
      "Ace of Hearts\n"
     ]
    }
   ],
   "source": [
    "import random\n",
    "\n",
    "\n",
    "class Card:\n",
    "    \"\"\"Represents a standard playing card.\n",
    "    \n",
    "    Attributes:\n",
    "      suit: integer 0-3\n",
    "      rank: integer 1-13\n",
    "    \"\"\"\n",
    "\n",
    "    suit_names = [\"Clubs\", \"Diamonds\", \"Hearts\", \"Spades\"]\n",
    "    rank_names = [None, \"Ace\", \"2\", \"3\", \"4\", \"5\", \"6\", \"7\", \n",
    "              \"8\", \"9\", \"10\", \"Jack\", \"Queen\", \"King\"]\n",
    "\n",
    "    def __init__(self, suit=0, rank=2):\n",
    "        self.suit = suit\n",
    "        self.rank = rank\n",
    "\n",
    "    def __str__(self):\n",
    "        \"\"\"Returns a human-readable string representation.\"\"\"\n",
    "        return '%s of %s' % (Card.rank_names[self.rank],\n",
    "                             Card.suit_names[self.suit])\n",
    "\n",
    "    def __eq__(self, other):\n",
    "        \"\"\"Checks whether self and other have the same rank and suit.\n",
    "        returns: boolean\n",
    "        \"\"\"\n",
    "        return self.suit == other.suit and self.rank == other.rank\n",
    "\n",
    "    def __lt__(self, other):\n",
    "        \"\"\"Compares this card to other, first by suit, then rank.\n",
    "        returns: boolean\n",
    "        \"\"\"\n",
    "        t1 = self.suit, self.rank\n",
    "        t2 = other.suit, other.rank\n",
    "        return t1 < t2\n",
    "\n",
    "\n",
    "class Deck:\n",
    "    \"\"\"Represents a deck of cards.\n",
    "    Attributes:\n",
    "      cards: list of Card objects.\n",
    "    \"\"\"\n",
    "    \n",
    "    def __init__(self):\n",
    "        \"\"\"Initializes the Deck with 52 cards.\n",
    "        \"\"\"\n",
    "        self.cards = []\n",
    "        for suit in range(4):\n",
    "            for rank in range(1, 14):\n",
    "                card = Card(suit, rank)\n",
    "                self.cards.append(card)\n",
    "\n",
    "    def __str__(self):\n",
    "        \"\"\"Returns a string representation of the deck.\n",
    "        \"\"\"\n",
    "        res = []\n",
    "        for card in self.cards:\n",
    "            res.append(str(card))\n",
    "        return '\\n'.join(res)\n",
    "\n",
    "    def add_card(self, card):\n",
    "        \"\"\"Adds a card to the deck.\n",
    "        card: Card\n",
    "        \"\"\"\n",
    "        self.cards.append(card)\n",
    "\n",
    "    def remove_card(self, card):\n",
    "        \"\"\"Removes a card from the deck or raises exception if it is not there.\n",
    "        \n",
    "        card: Card\n",
    "        \"\"\"\n",
    "        self.cards.remove(card)\n",
    "\n",
    "    def pop_card(self, i=-1):\n",
    "        \"\"\"Removes and returns a card from the deck.\n",
    "        i: index of the card to pop; by default, pops the last card.\n",
    "        \"\"\"\n",
    "        return self.cards.pop(i)\n",
    "\n",
    "    def shuffle(self):\n",
    "        \"\"\"Shuffles the cards in this deck.\"\"\"\n",
    "        random.shuffle(self.cards)\n",
    "\n",
    "    def sort(self):\n",
    "        \"\"\"Sorts the cards in ascending order.\"\"\"\n",
    "        self.cards.sort()\n",
    "\n",
    "    def move_cards(self, hand, num):\n",
    "        \"\"\"Moves the given number of cards from the deck into the Hand.\n",
    "        hand: destination Hand object\n",
    "        num: integer number of cards to move\n",
    "        \"\"\"\n",
    "        for i in range(num):\n",
    "            hand.add_card(self.pop_card())\n",
    "\n",
    "\n",
    "class Hand(Deck):\n",
    "    \"\"\"Represents a hand of playing cards.\"\"\"\n",
    "    \n",
    "    def __init__(self, label=''):\n",
    "        self.cards = []\n",
    "        self.label = label\n",
    "\n",
    "\n",
    "def find_defining_class(obj, method_name):\n",
    "    \"\"\"Finds and returns the class object that will provide \n",
    "    the definition of method_name (as a string) if it is\n",
    "    invoked on obj.\n",
    "    obj: any python object\n",
    "    method_name: string method name\n",
    "    \"\"\"\n",
    "    for ty in type(obj).mro():\n",
    "        if method_name in ty.__dict__:\n",
    "            return ty\n",
    "    return None\n",
    "\n",
    "\n",
    "if __name__ == '__main__':\n",
    "    deck = Deck()\n",
    "    deck.shuffle()\n",
    "\n",
    "    hand = Hand()\n",
    "    print(find_defining_class(hand, 'shuffle'))\n",
    "\n",
    "    deck.move_cards(hand, 5)\n",
    "    hand.sort()\n",
    "    print(hand)"
   ]
  },
  {
   "cell_type": "code",
   "execution_count": 20,
   "id": "210cb3cb",
   "metadata": {},
   "outputs": [
    {
     "name": "stdout",
     "output_type": "stream",
     "text": [
      "2 of Clubs\n",
      "8 of Hearts\n",
      "Ace of Spades\n",
      "3 of Spades\n",
      "4 of Spades\n",
      "9 of Spades\n",
      "Jack of Spades\n",
      "True\n",
      "\n"
     ]
    }
   ],
   "source": [
    "class PokerHand(Hand):\n",
    "    \"\"\"Represents a poker hand.\"\"\"\n",
    "\n",
    "    def suit_hist(self):\n",
    "        \"\"\"Builds a histogram of the suits that appear in the hand.\n",
    "        Stores the result in attribute suits.\n",
    "        \"\"\"\n",
    "        self.suits = {}\n",
    "        for card in self.cards:\n",
    "            self.suits[card.suit] = self.suits.get(card.suit, 0) + 1\n",
    "\n",
    "    def has_flush(self):\n",
    "        \"\"\"Returns True if the hand has a flush, False otherwise.\n",
    "      \n",
    "        Note that this works correctly for hands with more than 5 cards.\n",
    "        \"\"\"\n",
    "        self.suit_hist()\n",
    "        for val in self.suits.values():\n",
    "            if val >= 5:\n",
    "                return True\n",
    "        return False\n",
    "    \n",
    "    def has_pair(self):\n",
    "        \n",
    "        self.suit_hist()\n",
    "        \n",
    "        \n",
    "\n",
    "\n",
    "if __name__ == '__main__':\n",
    "    # make a deck\n",
    "    deck = Deck()\n",
    "    deck.shuffle()\n",
    "\n",
    "    # deal the cards and classify the hands\n",
    "    for i in range(7):\n",
    "        hand = PokerHand()\n",
    "        deck.move_cards(hand, 7)\n",
    "        hand.sort()\n",
    "        if hand.has_flush():\n",
    "            print(hand)\n",
    "            print(hand.has_flush())\n",
    "            print('')"
   ]
  },
  {
   "cell_type": "code",
   "execution_count": null,
   "id": "3769c8cd",
   "metadata": {},
   "outputs": [],
   "source": []
  }
 ],
 "metadata": {
  "kernelspec": {
   "display_name": "Python 3",
   "language": "python",
   "name": "python3"
  },
  "language_info": {
   "codemirror_mode": {
    "name": "ipython",
    "version": 3
   },
   "file_extension": ".py",
   "mimetype": "text/x-python",
   "name": "python",
   "nbconvert_exporter": "python",
   "pygments_lexer": "ipython3",
   "version": "3.8.8"
  }
 },
 "nbformat": 4,
 "nbformat_minor": 5
}
