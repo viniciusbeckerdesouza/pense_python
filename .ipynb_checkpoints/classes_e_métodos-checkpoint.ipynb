{
 "cells": [
  {
   "cell_type": "code",
   "execution_count": 1,
   "id": "079e911f",
   "metadata": {},
   "outputs": [],
   "source": [
    "class Time:\n",
    "    \n",
    "    def __init__(self, hour=0, minute=0, second=0):\n",
    "        self.hour = hour\n",
    "        self.minute = minute\n",
    "        self.second = second\n",
    "    \n",
    "    def __str__(self):\n",
    "        return '%.2d:%.2d:%.2d' % (self.hour, self.minute, self.second)\n",
    "    \n",
    "    def time_to_int(self):\n",
    "        minutes = self.hour * 60 + self.minute\n",
    "        seconds = minutes * 60 + self.second\n",
    "        return seconds\n",
    "    \n",
    "    def is_after(self, other):\n",
    "        return self.time_to_int() > other.time_to_int()\n",
    "    \n",
    "    def __add__(self, other):\n",
    "        if isinstance(other, Time):\n",
    "            return self.add_time(other)\n",
    "        else:\n",
    "            return self.increment(other)\n",
    "        \n",
    "    def add_time(self, other):\n",
    "        seconds = self.time_to_int() + other.time_to_int()\n",
    "        return int_to_time(seconds)\n",
    "    \n",
    "    def increment(self, seconds):\n",
    "        seconds += self.time_to_int()\n",
    "        return int_to_time(seconds)\n",
    "\n",
    "    def __radd__(self, other):\n",
    "        return self.__add__(other)\n",
    "    \n",
    "    def __lt__(self, other):\n",
    "        t1 = self.hour, self.minute, self.second\n",
    "        t2 = other.hour, other.minute, self.second\n",
    "        return t1 < t2\n",
    "    \n",
    "def int_to_time(seconds):\n",
    "    time = Time()\n",
    "    minutes, time.second = divmod(seconds, 60)\n",
    "    time.hour, time.minute = divmod(minutes, 60)\n",
    "    return(time)  "
   ]
  },
  {
   "cell_type": "code",
   "execution_count": 2,
   "id": "1bcfeb68",
   "metadata": {},
   "outputs": [],
   "source": [
    "tempo = Time()\n",
    "tempo.hour=10\n",
    "tempo.minute=15\n",
    "tempo.second=45"
   ]
  },
  {
   "cell_type": "code",
   "execution_count": 117,
   "id": "c71d84a2",
   "metadata": {},
   "outputs": [
    {
     "name": "stdout",
     "output_type": "stream",
     "text": [
      "10:15:45\n"
     ]
    }
   ],
   "source": [
    "print(tempo)"
   ]
  },
  {
   "cell_type": "code",
   "execution_count": 118,
   "id": "69b87f1a",
   "metadata": {},
   "outputs": [
    {
     "data": {
      "text/plain": [
       "36945"
      ]
     },
     "execution_count": 118,
     "metadata": {},
     "output_type": "execute_result"
    }
   ],
   "source": [
    "tempo.time_to_int()"
   ]
  },
  {
   "cell_type": "code",
   "execution_count": 119,
   "id": "8de8ea94",
   "metadata": {},
   "outputs": [
    {
     "name": "stdout",
     "output_type": "stream",
     "text": [
      "10:15:55\n"
     ]
    }
   ],
   "source": [
    "print(tempo.increment(10))"
   ]
  },
  {
   "cell_type": "code",
   "execution_count": 3,
   "id": "405efc6d",
   "metadata": {},
   "outputs": [],
   "source": [
    "depois = Time()\n",
    "depois.hour = 12\n",
    "depois.minute = 13\n",
    "depois.second = 45"
   ]
  },
  {
   "cell_type": "code",
   "execution_count": 5,
   "id": "075e3c50",
   "metadata": {},
   "outputs": [
    {
     "data": {
      "text/plain": [
       "True"
      ]
     },
     "execution_count": 5,
     "metadata": {},
     "output_type": "execute_result"
    }
   ],
   "source": [
    "tempo < depois"
   ]
  },
  {
   "cell_type": "code",
   "execution_count": 121,
   "id": "d3a72aad",
   "metadata": {},
   "outputs": [
    {
     "data": {
      "text/plain": [
       "False"
      ]
     },
     "execution_count": 121,
     "metadata": {},
     "output_type": "execute_result"
    }
   ],
   "source": [
    "tempo.is_after(depois)"
   ]
  },
  {
   "cell_type": "code",
   "execution_count": 122,
   "id": "1676a4e0",
   "metadata": {},
   "outputs": [
    {
     "name": "stdout",
     "output_type": "stream",
     "text": [
      "00:00:00\n"
     ]
    }
   ],
   "source": [
    "x = Time()\n",
    "print(x)"
   ]
  },
  {
   "cell_type": "code",
   "execution_count": 123,
   "id": "1023e31a",
   "metadata": {},
   "outputs": [
    {
     "name": "stdout",
     "output_type": "stream",
     "text": [
      "08:00:00\n"
     ]
    }
   ],
   "source": [
    "y = Time(8)\n",
    "print(y)"
   ]
  },
  {
   "cell_type": "code",
   "execution_count": 124,
   "id": "446ad77a",
   "metadata": {},
   "outputs": [
    {
     "name": "stdout",
     "output_type": "stream",
     "text": [
      "10:15:59\n"
     ]
    }
   ],
   "source": [
    "z = Time(10, 15, 59)\n",
    "print(z)"
   ]
  },
  {
   "cell_type": "code",
   "execution_count": 125,
   "id": "2550b56e",
   "metadata": {},
   "outputs": [
    {
     "name": "stdout",
     "output_type": "stream",
     "text": [
      "18:15:59\n"
     ]
    }
   ],
   "source": [
    "print(y + z)"
   ]
  },
  {
   "cell_type": "code",
   "execution_count": 126,
   "id": "c2d4f897",
   "metadata": {},
   "outputs": [
    {
     "name": "stdout",
     "output_type": "stream",
     "text": [
      "10:32:39\n"
     ]
    }
   ],
   "source": [
    "print(z + 1000)"
   ]
  },
  {
   "cell_type": "code",
   "execution_count": 127,
   "id": "e1064899",
   "metadata": {},
   "outputs": [
    {
     "name": "stdout",
     "output_type": "stream",
     "text": [
      "10:17:39\n"
     ]
    }
   ],
   "source": [
    "print(100 + z)"
   ]
  },
  {
   "cell_type": "code",
   "execution_count": 160,
   "id": "41b8fe23",
   "metadata": {},
   "outputs": [
    {
     "name": "stdout",
     "output_type": "stream",
     "text": [
      "29:30:00\n"
     ]
    }
   ],
   "source": [
    "t1 = Time(8, 50)\n",
    "t2 = Time(9, 50)\n",
    "t3 = Time(10, 50)\n",
    "total = sum([t1,t2,t3])\n",
    "print(total)"
   ]
  },
  {
   "cell_type": "code",
   "execution_count": 161,
   "id": "fc206dff",
   "metadata": {},
   "outputs": [
    {
     "data": {
      "text/plain": [
       "{'hour': 8, 'minute': 50, 'second': 0}"
      ]
     },
     "execution_count": 161,
     "metadata": {},
     "output_type": "execute_result"
    }
   ],
   "source": [
    "vars(t1)"
   ]
  },
  {
   "cell_type": "code",
   "execution_count": 162,
   "id": "b196ce76",
   "metadata": {},
   "outputs": [
    {
     "data": {
      "text/plain": [
       "{'hour': 9, 'minute': 50, 'second': 0}"
      ]
     },
     "execution_count": 162,
     "metadata": {},
     "output_type": "execute_result"
    }
   ],
   "source": [
    "vars(t2)"
   ]
  },
  {
   "cell_type": "code",
   "execution_count": 163,
   "id": "0a432031",
   "metadata": {},
   "outputs": [
    {
     "data": {
      "text/plain": [
       "{'hour': 10, 'minute': 15, 'second': 45}"
      ]
     },
     "execution_count": 163,
     "metadata": {},
     "output_type": "execute_result"
    }
   ],
   "source": [
    "vars(tempo)"
   ]
  },
  {
   "cell_type": "code",
   "execution_count": 153,
   "id": "63f2ec08",
   "metadata": {},
   "outputs": [],
   "source": [
    "class Point:\n",
    "    \n",
    "    def __init__(self, x=0, y=0):\n",
    "        self.x = x\n",
    "        self.y = y\n",
    "        \n",
    "    def __str__(self):\n",
    "        return '(%.2f, %.2f)' % (self.x, self.y)\n",
    "    \n",
    "    def __add__(self, other):\n",
    "        if isinstance(other, Point):\n",
    "            return self.add_point(other)\n",
    "        else:\n",
    "            return self.add_tuple(other)\n",
    "    \n",
    "    def add_point(self, other):\n",
    "        soma_x = self.x + other.x\n",
    "        soma_y = self.y + other.y\n",
    "        return soma_x, soma_y\n",
    "    \n",
    "    def add_tuple(self, other):\n",
    "        x, y = other\n",
    "        soma_x = self.x + x\n",
    "        soma_y = self.y + y\n",
    "        return soma_x, soma_y"
   ]
  },
  {
   "cell_type": "code",
   "execution_count": 154,
   "id": "b9f911d8",
   "metadata": {},
   "outputs": [
    {
     "data": {
      "text/plain": [
       "(0, 0)"
      ]
     },
     "execution_count": 154,
     "metadata": {},
     "output_type": "execute_result"
    }
   ],
   "source": [
    "p1 = Point()\n",
    "p1.x, p1.y"
   ]
  },
  {
   "cell_type": "code",
   "execution_count": 155,
   "id": "173bc27f",
   "metadata": {},
   "outputs": [
    {
     "data": {
      "text/plain": [
       "(2, 3)"
      ]
     },
     "execution_count": 155,
     "metadata": {},
     "output_type": "execute_result"
    }
   ],
   "source": [
    "p2 = Point(2, 3)\n",
    "p2.x, p2.y"
   ]
  },
  {
   "cell_type": "code",
   "execution_count": 156,
   "id": "5b3ad362",
   "metadata": {},
   "outputs": [
    {
     "name": "stdout",
     "output_type": "stream",
     "text": [
      "(2.00, 3.00)\n"
     ]
    }
   ],
   "source": [
    "print(p2)"
   ]
  },
  {
   "cell_type": "code",
   "execution_count": 157,
   "id": "d93a58b5",
   "metadata": {},
   "outputs": [
    {
     "data": {
      "text/plain": [
       "(4, 6)"
      ]
     },
     "execution_count": 157,
     "metadata": {},
     "output_type": "execute_result"
    }
   ],
   "source": [
    "p2 + p2"
   ]
  },
  {
   "cell_type": "code",
   "execution_count": 158,
   "id": "22f1f616",
   "metadata": {},
   "outputs": [
    {
     "data": {
      "text/plain": [
       "(7, 8)"
      ]
     },
     "execution_count": 158,
     "metadata": {},
     "output_type": "execute_result"
    }
   ],
   "source": [
    "p2 + (5, 5)"
   ]
  },
  {
   "cell_type": "code",
   "execution_count": 164,
   "id": "a7b637b6",
   "metadata": {},
   "outputs": [
    {
     "data": {
      "text/plain": [
       "{'x': 0, 'y': 0}"
      ]
     },
     "execution_count": 164,
     "metadata": {},
     "output_type": "execute_result"
    }
   ],
   "source": [
    "vars(p1)"
   ]
  },
  {
   "cell_type": "code",
   "execution_count": 165,
   "id": "d47b0c03",
   "metadata": {},
   "outputs": [
    {
     "data": {
      "text/plain": [
       "{'x': 2, 'y': 3}"
      ]
     },
     "execution_count": 165,
     "metadata": {},
     "output_type": "execute_result"
    }
   ],
   "source": [
    "vars(p2)"
   ]
  },
  {
   "cell_type": "code",
   "execution_count": 166,
   "id": "a01297db",
   "metadata": {},
   "outputs": [],
   "source": [
    "def print_attributes(obj):\n",
    "    for attr in vars(obj):\n",
    "        print(attr, getattr(obj, attr))"
   ]
  },
  {
   "cell_type": "code",
   "execution_count": 167,
   "id": "1dcafb95",
   "metadata": {},
   "outputs": [
    {
     "name": "stdout",
     "output_type": "stream",
     "text": [
      "hour 8\n",
      "minute 50\n",
      "second 0\n"
     ]
    }
   ],
   "source": [
    "print_attributes(t1)"
   ]
  },
  {
   "cell_type": "code",
   "execution_count": 168,
   "id": "ff7fab35",
   "metadata": {},
   "outputs": [
    {
     "name": "stdout",
     "output_type": "stream",
     "text": [
      "x 2\n",
      "y 3\n"
     ]
    }
   ],
   "source": [
    "print_attributes(p2)"
   ]
  },
  {
   "cell_type": "code",
   "execution_count": 169,
   "id": "7274f97b",
   "metadata": {},
   "outputs": [
    {
     "name": "stdout",
     "output_type": "stream",
     "text": [
      "09:45:00\n",
      "10:07:17\n",
      "Is end after start?\n",
      "True\n",
      "Using __str__\n",
      "09:45:00 10:07:17\n",
      "11:20:00\n",
      "10:07:17\n",
      "10:07:17\n",
      "Example of polymorphism\n",
      "23:01:00\n"
     ]
    }
   ],
   "source": [
    "from __future__ import print_function, division\n",
    "\n",
    "\n",
    "class Time:\n",
    "    \"\"\"Represents the time of day.\n",
    "       \n",
    "    attributes: hour, minute, second\n",
    "    \"\"\"\n",
    "    def __init__(self, hour=0, minute=0, second=0):\n",
    "        \"\"\"Initializes a time object.\n",
    "        hour: int\n",
    "        minute: int\n",
    "        second: int or float\n",
    "        \"\"\"\n",
    "        self.hour = hour\n",
    "        self.minute = minute\n",
    "        self.second = second\n",
    "\n",
    "    def __str__(self):\n",
    "        \"\"\"Returns a string representation of the time.\"\"\"\n",
    "        return '%.2d:%.2d:%.2d' % (self.hour, self.minute, self.second)\n",
    "\n",
    "    def print_time(self):\n",
    "        \"\"\"Prints a string representation of the time.\"\"\"\n",
    "        print(str(self))\n",
    "\n",
    "    def time_to_int(self):\n",
    "        \"\"\"Computes the number of seconds since midnight.\"\"\"\n",
    "        minutes = self.hour * 60 + self.minute\n",
    "        seconds = minutes * 60 + self.second\n",
    "        return seconds\n",
    "\n",
    "    def is_after(self, other):\n",
    "        \"\"\"Returns True if t1 is after t2; false otherwise.\"\"\"\n",
    "        return self.time_to_int() > other.time_to_int()\n",
    "\n",
    "    def __add__(self, other):\n",
    "        \"\"\"Adds two Time objects or a Time object and a number.\n",
    "        other: Time object or number of seconds\n",
    "        \"\"\"\n",
    "        if isinstance(other, Time):\n",
    "            return self.add_time(other)\n",
    "        else:\n",
    "            return self.increment(other)\n",
    "\n",
    "    def __radd__(self, other):\n",
    "        \"\"\"Adds two Time objects or a Time object and a number.\"\"\"\n",
    "        return self.__add__(other)\n",
    "\n",
    "    def add_time(self, other):\n",
    "        \"\"\"Adds two time objects.\"\"\"\n",
    "        assert self.is_valid() and other.is_valid()\n",
    "        seconds = self.time_to_int() + other.time_to_int()\n",
    "        return int_to_time(seconds)\n",
    "\n",
    "    def increment(self, seconds):\n",
    "        \"\"\"Returns a new Time that is the sum of this time and seconds.\"\"\"\n",
    "        seconds += self.time_to_int()\n",
    "        return int_to_time(seconds)\n",
    "\n",
    "    def is_valid(self):\n",
    "        \"\"\"Checks whether a Time object satisfies the invariants.\"\"\"\n",
    "        if self.hour < 0 or self.minute < 0 or self.second < 0:\n",
    "            return False\n",
    "        if self.minute >= 60 or self.second >= 60:\n",
    "            return False\n",
    "        return True\n",
    "\n",
    "\n",
    "def int_to_time(seconds):\n",
    "    \"\"\"Makes a new Time object.\n",
    "    seconds: int seconds since midnight.\n",
    "    \"\"\"\n",
    "    minutes, second = divmod(seconds, 60)\n",
    "    hour, minute = divmod(minutes, 60)\n",
    "    time = Time(hour, minute, second)\n",
    "    return time\n",
    "\n",
    "\n",
    "def main():\n",
    "    start = Time(9, 45, 00)\n",
    "    start.print_time()\n",
    "\n",
    "    end = start.increment(1337)\n",
    "    #end = start.increment(1337, 460)\n",
    "    end.print_time()\n",
    "\n",
    "    print('Is end after start?')\n",
    "    print(end.is_after(start))\n",
    "\n",
    "    print('Using __str__')\n",
    "    print(start, end)\n",
    "\n",
    "    start = Time(9, 45)\n",
    "    duration = Time(1, 35)\n",
    "    print(start + duration)\n",
    "    print(start + 1337)\n",
    "    print(1337 + start)\n",
    "\n",
    "    print('Example of polymorphism')\n",
    "    t1 = Time(7, 43)\n",
    "    t2 = Time(7, 41)\n",
    "    t3 = Time(7, 37)\n",
    "    total = sum([t1, t2, t3])\n",
    "    print(total)\n",
    "\n",
    "\n",
    "if __name__ == '__main__':\n",
    "    main()"
   ]
  },
  {
   "cell_type": "code",
   "execution_count": 170,
   "id": "bc00569f",
   "metadata": {},
   "outputs": [
    {
     "name": "stdout",
     "output_type": "stream",
     "text": [
      "Kanga has pouch contents:\n",
      "    'wallet'\n",
      "    'car keys'\n",
      "    <__main__.Kangaroo object at 0x0000000005220B50>\n"
     ]
    }
   ],
   "source": [
    "\"\"\"This module contains a code example related to\n",
    "Think Python, 2nd Edition\n",
    "by Allen Downey\n",
    "http://thinkpython2.com\n",
    "Copyright 2015 Allen Downey\n",
    "License: http://creativecommons.org/licenses/by/4.0/\n",
    "\"\"\"\n",
    "\n",
    "from __future__ import print_function, division\n",
    "\n",
    "\"\"\"\n",
    "WARNING: this program contains a NASTY bug.  I put\n",
    "it there on purpose as a debugging exercise, but\n",
    "you DO NOT want to emulate this example!\n",
    "\"\"\"\n",
    "\n",
    "class Kangaroo:\n",
    "    \"\"\"A Kangaroo is a marsupial.\"\"\"\n",
    "    \n",
    "    def __init__(self, name, contents=[]):\n",
    "        \"\"\"Initialize the pouch contents.\n",
    "        name: string\n",
    "        contents: initial pouch contents.\n",
    "        \"\"\"\n",
    "        self.name = name\n",
    "        self.pouch_contents = contents\n",
    "\n",
    "    def __str__(self):\n",
    "        \"\"\"Return a string representaion of this Kangaroo.\n",
    "        \"\"\"\n",
    "        t = [ self.name + ' has pouch contents:' ]\n",
    "        for obj in self.pouch_contents:\n",
    "            s = '    ' + object.__str__(obj)\n",
    "            t.append(s)\n",
    "        return '\\n'.join(t)\n",
    "\n",
    "    def put_in_pouch(self, item):\n",
    "        \"\"\"Adds a new item to the pouch contents.\n",
    "        item: object to be added\n",
    "        \"\"\"\n",
    "        self.pouch_contents.append(item)\n",
    "\n",
    "\n",
    "kanga = Kangaroo('Kanga')\n",
    "roo = Kangaroo('Roo')\n",
    "kanga.put_in_pouch('wallet')\n",
    "kanga.put_in_pouch('car keys')\n",
    "kanga.put_in_pouch(roo)\n",
    "\n",
    "print(kanga)\n",
    "\n",
    "# If you run this program as is, it seems to work.\n",
    "# To see the problem, trying printing roo.\n",
    "\n",
    "# Hint: to find the problem try running pylint."
   ]
  },
  {
   "cell_type": "code",
   "execution_count": 1,
   "id": "27ad2018",
   "metadata": {},
   "outputs": [
    {
     "name": "stdout",
     "output_type": "stream",
     "text": [
      "09:45:00\n",
      "10:07:17\n",
      "Is end after start?\n",
      "True\n",
      "Using __str__\n",
      "09:45:00 10:07:17\n",
      "11:20:00\n",
      "10:07:17\n",
      "10:07:17\n",
      "Example of polymorphism\n",
      "23:01:00\n"
     ]
    }
   ],
   "source": [
    "\"\"\"This module contains a code example related to\n",
    "Think Python, 2nd Edition\n",
    "by Allen Downey\n",
    "http://thinkpython2.com\n",
    "Copyright 2015 Allen Downey\n",
    "License: http://creativecommons.org/licenses/by/4.0/\n",
    "\"\"\"\n",
    "\n",
    "from __future__ import print_function, division\n",
    "\n",
    "\n",
    "class Time:\n",
    "    \"\"\"Represents the time of day.\n",
    "       \n",
    "    attributes: hour, minute, second\n",
    "    \"\"\"\n",
    "    def __init__(self, hour=0, minute=0, second=0):\n",
    "        \"\"\"Initializes a time object.\n",
    "        hour: int\n",
    "        minute: int\n",
    "        second: int or float\n",
    "        \"\"\"\n",
    "        self.hour = hour\n",
    "        self.minute = minute\n",
    "        self.second = second\n",
    "\n",
    "    def __str__(self):\n",
    "        \"\"\"Returns a string representation of the time.\"\"\"\n",
    "        return '%.2d:%.2d:%.2d' % (self.hour, self.minute, self.second)\n",
    "\n",
    "    def print_time(self):\n",
    "        \"\"\"Prints a string representation of the time.\"\"\"\n",
    "        print(str(self))\n",
    "\n",
    "    def time_to_int(self):\n",
    "        \"\"\"Computes the number of seconds since midnight.\"\"\"\n",
    "        minutes = self.hour * 60 + self.minute\n",
    "        seconds = minutes * 60 + self.second\n",
    "        return seconds\n",
    "\n",
    "    def is_after(self, other):\n",
    "        \"\"\"Returns True if t1 is after t2; false otherwise.\"\"\"\n",
    "        return self.time_to_int() > other.time_to_int()\n",
    "\n",
    "    def __add__(self, other):\n",
    "        \"\"\"Adds two Time objects or a Time object and a number.\n",
    "        other: Time object or number of seconds\n",
    "        \"\"\"\n",
    "        if isinstance(other, Time):\n",
    "            return self.add_time(other)\n",
    "        else:\n",
    "            return self.increment(other)\n",
    "\n",
    "    def __radd__(self, other):\n",
    "        \"\"\"Adds two Time objects or a Time object and a number.\"\"\"\n",
    "        return self.__add__(other)\n",
    "\n",
    "    def add_time(self, other):\n",
    "        \"\"\"Adds two time objects.\"\"\"\n",
    "        assert self.is_valid() and other.is_valid()\n",
    "        seconds = self.time_to_int() + other.time_to_int()\n",
    "        return int_to_time(seconds)\n",
    "\n",
    "    def increment(self, seconds):\n",
    "        \"\"\"Returns a new Time that is the sum of this time and seconds.\"\"\"\n",
    "        seconds += self.time_to_int()\n",
    "        return int_to_time(seconds)\n",
    "\n",
    "    def is_valid(self):\n",
    "        \"\"\"Checks whether a Time object satisfies the invariants.\"\"\"\n",
    "        if self.hour < 0 or self.minute < 0 or self.second < 0:\n",
    "            return False\n",
    "        if self.minute >= 60 or self.second >= 60:\n",
    "            return False\n",
    "        return True\n",
    "\n",
    "\n",
    "def int_to_time(seconds):\n",
    "    \"\"\"Makes a new Time object.\n",
    "    seconds: int seconds since midnight.\n",
    "    \"\"\"\n",
    "    minutes, second = divmod(seconds, 60)\n",
    "    hour, minute = divmod(minutes, 60)\n",
    "    time = Time(hour, minute, second)\n",
    "    return time\n",
    "\n",
    "\n",
    "def main():\n",
    "    start = Time(9, 45, 00)\n",
    "    start.print_time()\n",
    "\n",
    "    end = start.increment(1337)\n",
    "    #end = start.increment(1337, 460)\n",
    "    end.print_time()\n",
    "\n",
    "    print('Is end after start?')\n",
    "    print(end.is_after(start))\n",
    "\n",
    "    print('Using __str__')\n",
    "    print(start, end)\n",
    "\n",
    "    start = Time(9, 45)\n",
    "    duration = Time(1, 35)\n",
    "    print(start + duration)\n",
    "    print(start + 1337)\n",
    "    print(1337 + start)\n",
    "\n",
    "    print('Example of polymorphism')\n",
    "    t1 = Time(7, 43)\n",
    "    t2 = Time(7, 41)\n",
    "    t3 = Time(7, 37)\n",
    "    total = sum([t1, t2, t3])\n",
    "    print(total)\n",
    "\n",
    "\n",
    "if __name__ == '__main__':\n",
    "    main()"
   ]
  },
  {
   "cell_type": "code",
   "execution_count": 14,
   "id": "d6eeb85e",
   "metadata": {},
   "outputs": [],
   "source": [
    "class Kangaroo:\n",
    "    \n",
    "    def __init__(self):\n",
    "        self.pouch_contents = []\n",
    "        \n",
    "    def put_in_pouch(self, content):\n",
    "        self.pouch_contents.append(content)\n",
    "        \n",
    "    def __str__(self):\n",
    "        return str(self.pouch_contents)\n",
    "        \n",
    "    "
   ]
  },
  {
   "cell_type": "code",
   "execution_count": 15,
   "id": "e176272a",
   "metadata": {},
   "outputs": [],
   "source": [
    "kang = Kangaroo()"
   ]
  },
  {
   "cell_type": "code",
   "execution_count": 16,
   "id": "6072b640",
   "metadata": {},
   "outputs": [],
   "source": [
    "kang.put_in_pouch('queijo')"
   ]
  },
  {
   "cell_type": "code",
   "execution_count": 17,
   "id": "01f0375e",
   "metadata": {},
   "outputs": [
    {
     "name": "stdout",
     "output_type": "stream",
     "text": [
      "['queijo']\n"
     ]
    }
   ],
   "source": [
    "print(kang.pouch_contents)"
   ]
  },
  {
   "cell_type": "code",
   "execution_count": 18,
   "id": "3898012c",
   "metadata": {},
   "outputs": [
    {
     "name": "stdout",
     "output_type": "stream",
     "text": [
      "['queijo']\n"
     ]
    }
   ],
   "source": [
    "print(kang)"
   ]
  },
  {
   "cell_type": "code",
   "execution_count": 25,
   "id": "044063fe",
   "metadata": {},
   "outputs": [],
   "source": [
    "kanga = Kangaroo()\n",
    "roo = Kangaroo()"
   ]
  },
  {
   "cell_type": "code",
   "execution_count": 26,
   "id": "8c71450c",
   "metadata": {},
   "outputs": [],
   "source": [
    "kanga.put_in_pouch(roo)\n",
    "kanga.put_in_pouch('sun')"
   ]
  },
  {
   "cell_type": "code",
   "execution_count": 27,
   "id": "27be29f8",
   "metadata": {},
   "outputs": [
    {
     "name": "stdout",
     "output_type": "stream",
     "text": [
      "[<__main__.Kangaroo object at 0x0000000004F025E0>, 'sun']\n"
     ]
    }
   ],
   "source": [
    "print(kanga)"
   ]
  },
  {
   "cell_type": "code",
   "execution_count": 28,
   "id": "c08e68d7",
   "metadata": {},
   "outputs": [
    {
     "name": "stdout",
     "output_type": "stream",
     "text": [
      "[]\n"
     ]
    }
   ],
   "source": [
    "print(roo)"
   ]
  },
  {
   "cell_type": "code",
   "execution_count": 29,
   "id": "4eabb62a",
   "metadata": {},
   "outputs": [
    {
     "name": "stdout",
     "output_type": "stream",
     "text": [
      "Kanga has pouch contents:\n",
      "    'wallet'\n",
      "    'car keys'\n",
      "    <__main__.Kangaroo object at 0x0000000004E35FD0>\n",
      "Roo has pouch contents:\n"
     ]
    }
   ],
   "source": [
    "class Kangaroo:\n",
    "    \"\"\"A Kangaroo is a marsupial.\"\"\"\n",
    "    \n",
    "    def __init__(self, name, contents=[]):\n",
    "        \"\"\"Initialize the pouch contents.\n",
    "        name: string\n",
    "        contents: initial pouch contents.\n",
    "        \"\"\"\n",
    "        # The problem is the default value for contents.\n",
    "        # Default values get evaluated ONCE, when the function\n",
    "        # is defined; they don't get evaluated again when the\n",
    "        # function is called.\n",
    "\n",
    "        # In this case that means that when __init__ is defined,\n",
    "        # [] gets evaluated and contents gets a reference to\n",
    "        # an empty list.\n",
    "\n",
    "        # After that, every Kangaroo that gets the default\n",
    "        # value gets a reference to THE SAME list.  If any\n",
    "        # Kangaroo modifies this shared list, they all see\n",
    "        # the change.\n",
    "\n",
    "        # The next version of __init__ shows an idiomatic way\n",
    "        # to avoid this problem.\n",
    "        self.name = name\n",
    "        self.pouch_contents = contents\n",
    "\n",
    "    def __init__(self, name, contents=None):\n",
    "        \"\"\"Initialize the pouch contents.\n",
    "        name: string\n",
    "        contents: initial pouch contents.\n",
    "        \"\"\"\n",
    "        # In this version, the default value is None.  When\n",
    "        # __init__ runs, it checks the value of contents and,\n",
    "        # if necessary, creates a new empty list.  That way,\n",
    "        # every Kangaroo that gets the default value gets a\n",
    "        # reference to a different list.\n",
    "\n",
    "        # As a general rule, you should avoid using a mutable\n",
    "        # object as a default value, unless you really know\n",
    "        # what you are doing.\n",
    "        self.name = name\n",
    "        if contents == None:\n",
    "            contents = []\n",
    "        self.pouch_contents = contents\n",
    "\n",
    "    def __str__(self):\n",
    "        \"\"\"Return a string representaion of this Kangaroo.\n",
    "        \"\"\"\n",
    "        t = [ self.name + ' has pouch contents:' ]\n",
    "        for obj in self.pouch_contents:\n",
    "            s = '    ' + object.__str__(obj)\n",
    "            t.append(s)\n",
    "        return '\\n'.join(t)\n",
    "\n",
    "    def put_in_pouch(self, item):\n",
    "        \"\"\"Adds a new item to the pouch contents.\n",
    "        item: object to be added\n",
    "        \"\"\"\n",
    "        self.pouch_contents.append(item)\n",
    "\n",
    "\n",
    "kanga = Kangaroo('Kanga')\n",
    "roo = Kangaroo('Roo')\n",
    "kanga.put_in_pouch('wallet')\n",
    "kanga.put_in_pouch('car keys')\n",
    "kanga.put_in_pouch(roo)\n",
    "\n",
    "print(kanga)\n",
    "print(roo)"
   ]
  },
  {
   "cell_type": "code",
   "execution_count": null,
   "id": "fd5b6706",
   "metadata": {},
   "outputs": [],
   "source": []
  }
 ],
 "metadata": {
  "kernelspec": {
   "display_name": "Python 3",
   "language": "python",
   "name": "python3"
  },
  "language_info": {
   "codemirror_mode": {
    "name": "ipython",
    "version": 3
   },
   "file_extension": ".py",
   "mimetype": "text/x-python",
   "name": "python",
   "nbconvert_exporter": "python",
   "pygments_lexer": "ipython3",
   "version": "3.8.8"
  }
 },
 "nbformat": 4,
 "nbformat_minor": 5
}
